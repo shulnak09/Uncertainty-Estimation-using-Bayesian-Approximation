{
  "cells": [
    {
      "cell_type": "code",
      "execution_count": null,
      "metadata": {
        "id": "IhDVV2v6Nkyo"
      },
      "outputs": [],
      "source": [
        "import numpy as np\n",
        "import pandas as pd\n",
        "from matplotlib import pyplot as plt \n",
        "import seaborn as sns\n",
        "import keras\n",
        "import tensorflow as tf\n",
        "import tensorflow_probability as tfp\n",
        "import random\n",
        "from sklearn.metrics import mean_squared_error\n",
        "from sklearn.preprocessing import MinMaxScaler, StandardScaler\n",
        "tf.random.set_seed(1)"
      ]
    },
    {
      "cell_type": "code",
      "source": [
        "device_name = tf.test.gpu_device_name()\n",
        "if device_name != '/device:GPU:0':\n",
        "  raise SystemError('GPU device not found')\n",
        "print('Found GPU at: {}'.format(device_name))"
      ],
      "metadata": {
        "id": "zZj1Epr8TOLf",
        "colab": {
          "base_uri": "https://localhost:8080/"
        },
        "outputId": "e530ccab-889e-40b8-de32-ecfc0407360c"
      },
      "execution_count": null,
      "outputs": [
        {
          "output_type": "stream",
          "name": "stdout",
          "text": [
            "Found GPU at: /device:GPU:0\n"
          ]
        }
      ]
    },
    {
      "cell_type": "code",
      "execution_count": null,
      "metadata": {
        "colab": {
          "base_uri": "https://localhost:8080/"
        },
        "id": "lfY6lNjxN6n0",
        "outputId": "8e3a7b01-4544-4650-c959-64f8639b4d6e"
      },
      "outputs": [
        {
          "output_type": "stream",
          "name": "stdout",
          "text": [
            "Mounted at /content/drive\n"
          ]
        }
      ],
      "source": [
        "from google.colab import drive\n",
        "drive.mount('/content/drive')\n",
        "# choose the file on your computer to upload it then\n"
      ]
    },
    {
      "cell_type": "code",
      "source": [
        "!nvidia-smi"
      ],
      "metadata": {
        "id": "2TN29ITmS8od",
        "colab": {
          "base_uri": "https://localhost:8080/"
        },
        "outputId": "645cbff4-0a3b-42be-f388-0203793f6737"
      },
      "execution_count": null,
      "outputs": [
        {
          "output_type": "stream",
          "name": "stdout",
          "text": [
            "Wed Sep 14 18:33:25 2022       \n",
            "+-----------------------------------------------------------------------------+\n",
            "| NVIDIA-SMI 460.32.03    Driver Version: 460.32.03    CUDA Version: 11.2     |\n",
            "|-------------------------------+----------------------+----------------------+\n",
            "| GPU  Name        Persistence-M| Bus-Id        Disp.A | Volatile Uncorr. ECC |\n",
            "| Fan  Temp  Perf  Pwr:Usage/Cap|         Memory-Usage | GPU-Util  Compute M. |\n",
            "|                               |                      |               MIG M. |\n",
            "|===============================+======================+======================|\n",
            "|   0  Tesla T4            Off  | 00000000:00:04.0 Off |                    0 |\n",
            "| N/A   57C    P0    26W /  70W |    284MiB / 15109MiB |      0%      Default |\n",
            "|                               |                      |                  N/A |\n",
            "+-------------------------------+----------------------+----------------------+\n",
            "                                                                               \n",
            "+-----------------------------------------------------------------------------+\n",
            "| Processes:                                                                  |\n",
            "|  GPU   GI   CI        PID   Type   Process name                  GPU Memory |\n",
            "|        ID   ID                                                   Usage      |\n",
            "|=============================================================================|\n",
            "+-----------------------------------------------------------------------------+\n"
          ]
        }
      ]
    },
    {
      "cell_type": "code",
      "execution_count": null,
      "metadata": {
        "colab": {
          "base_uri": "https://localhost:8080/",
          "height": 206
        },
        "id": "ubR4gqaYNzPe",
        "outputId": "22fd7e13-e5d2-4087-ddce-c79868093cf2"
      },
      "outputs": [
        {
          "output_type": "execute_result",
          "data": {
            "text/plain": [
              "      frame_id  agent_id      pos_x  pos_z     pos_y     vel_x  vel_z  \\\n",
              "2156    4955.0     100.0  13.185519    0.0  6.459224 -1.254872    0.0   \n",
              "2164    4961.0     100.0  12.683570    0.0  6.795322 -1.096975    0.0   \n",
              "2172    4967.0     100.0  12.307938    0.0  6.666085 -0.921663    0.0   \n",
              "2180    4973.0     100.0  11.946239    0.0  7.036023 -0.966555    0.0   \n",
              "2187    4979.0     100.0  11.534694    0.0  7.180153 -1.184987    0.0   \n",
              "\n",
              "         vel_y  \n",
              "2156  0.840245  \n",
              "2164  0.258576  \n",
              "2172  0.300877  \n",
              "2180  0.642585  \n",
              "2187  0.226681  "
            ],
            "text/html": [
              "\n",
              "  <div id=\"df-c70a7d75-aa49-4c14-8a62-a4d291870323\">\n",
              "    <div class=\"colab-df-container\">\n",
              "      <div>\n",
              "<style scoped>\n",
              "    .dataframe tbody tr th:only-of-type {\n",
              "        vertical-align: middle;\n",
              "    }\n",
              "\n",
              "    .dataframe tbody tr th {\n",
              "        vertical-align: top;\n",
              "    }\n",
              "\n",
              "    .dataframe thead th {\n",
              "        text-align: right;\n",
              "    }\n",
              "</style>\n",
              "<table border=\"1\" class=\"dataframe\">\n",
              "  <thead>\n",
              "    <tr style=\"text-align: right;\">\n",
              "      <th></th>\n",
              "      <th>frame_id</th>\n",
              "      <th>agent_id</th>\n",
              "      <th>pos_x</th>\n",
              "      <th>pos_z</th>\n",
              "      <th>pos_y</th>\n",
              "      <th>vel_x</th>\n",
              "      <th>vel_z</th>\n",
              "      <th>vel_y</th>\n",
              "    </tr>\n",
              "  </thead>\n",
              "  <tbody>\n",
              "    <tr>\n",
              "      <th>2156</th>\n",
              "      <td>4955.0</td>\n",
              "      <td>100.0</td>\n",
              "      <td>13.185519</td>\n",
              "      <td>0.0</td>\n",
              "      <td>6.459224</td>\n",
              "      <td>-1.254872</td>\n",
              "      <td>0.0</td>\n",
              "      <td>0.840245</td>\n",
              "    </tr>\n",
              "    <tr>\n",
              "      <th>2164</th>\n",
              "      <td>4961.0</td>\n",
              "      <td>100.0</td>\n",
              "      <td>12.683570</td>\n",
              "      <td>0.0</td>\n",
              "      <td>6.795322</td>\n",
              "      <td>-1.096975</td>\n",
              "      <td>0.0</td>\n",
              "      <td>0.258576</td>\n",
              "    </tr>\n",
              "    <tr>\n",
              "      <th>2172</th>\n",
              "      <td>4967.0</td>\n",
              "      <td>100.0</td>\n",
              "      <td>12.307938</td>\n",
              "      <td>0.0</td>\n",
              "      <td>6.666085</td>\n",
              "      <td>-0.921663</td>\n",
              "      <td>0.0</td>\n",
              "      <td>0.300877</td>\n",
              "    </tr>\n",
              "    <tr>\n",
              "      <th>2180</th>\n",
              "      <td>4973.0</td>\n",
              "      <td>100.0</td>\n",
              "      <td>11.946239</td>\n",
              "      <td>0.0</td>\n",
              "      <td>7.036023</td>\n",
              "      <td>-0.966555</td>\n",
              "      <td>0.0</td>\n",
              "      <td>0.642585</td>\n",
              "    </tr>\n",
              "    <tr>\n",
              "      <th>2187</th>\n",
              "      <td>4979.0</td>\n",
              "      <td>100.0</td>\n",
              "      <td>11.534694</td>\n",
              "      <td>0.0</td>\n",
              "      <td>7.180153</td>\n",
              "      <td>-1.184987</td>\n",
              "      <td>0.0</td>\n",
              "      <td>0.226681</td>\n",
              "    </tr>\n",
              "  </tbody>\n",
              "</table>\n",
              "</div>\n",
              "      <button class=\"colab-df-convert\" onclick=\"convertToInteractive('df-c70a7d75-aa49-4c14-8a62-a4d291870323')\"\n",
              "              title=\"Convert this dataframe to an interactive table.\"\n",
              "              style=\"display:none;\">\n",
              "        \n",
              "  <svg xmlns=\"http://www.w3.org/2000/svg\" height=\"24px\"viewBox=\"0 0 24 24\"\n",
              "       width=\"24px\">\n",
              "    <path d=\"M0 0h24v24H0V0z\" fill=\"none\"/>\n",
              "    <path d=\"M18.56 5.44l.94 2.06.94-2.06 2.06-.94-2.06-.94-.94-2.06-.94 2.06-2.06.94zm-11 1L8.5 8.5l.94-2.06 2.06-.94-2.06-.94L8.5 2.5l-.94 2.06-2.06.94zm10 10l.94 2.06.94-2.06 2.06-.94-2.06-.94-.94-2.06-.94 2.06-2.06.94z\"/><path d=\"M17.41 7.96l-1.37-1.37c-.4-.4-.92-.59-1.43-.59-.52 0-1.04.2-1.43.59L10.3 9.45l-7.72 7.72c-.78.78-.78 2.05 0 2.83L4 21.41c.39.39.9.59 1.41.59.51 0 1.02-.2 1.41-.59l7.78-7.78 2.81-2.81c.8-.78.8-2.07 0-2.86zM5.41 20L4 18.59l7.72-7.72 1.47 1.35L5.41 20z\"/>\n",
              "  </svg>\n",
              "      </button>\n",
              "      \n",
              "  <style>\n",
              "    .colab-df-container {\n",
              "      display:flex;\n",
              "      flex-wrap:wrap;\n",
              "      gap: 12px;\n",
              "    }\n",
              "\n",
              "    .colab-df-convert {\n",
              "      background-color: #E8F0FE;\n",
              "      border: none;\n",
              "      border-radius: 50%;\n",
              "      cursor: pointer;\n",
              "      display: none;\n",
              "      fill: #1967D2;\n",
              "      height: 32px;\n",
              "      padding: 0 0 0 0;\n",
              "      width: 32px;\n",
              "    }\n",
              "\n",
              "    .colab-df-convert:hover {\n",
              "      background-color: #E2EBFA;\n",
              "      box-shadow: 0px 1px 2px rgba(60, 64, 67, 0.3), 0px 1px 3px 1px rgba(60, 64, 67, 0.15);\n",
              "      fill: #174EA6;\n",
              "    }\n",
              "\n",
              "    [theme=dark] .colab-df-convert {\n",
              "      background-color: #3B4455;\n",
              "      fill: #D2E3FC;\n",
              "    }\n",
              "\n",
              "    [theme=dark] .colab-df-convert:hover {\n",
              "      background-color: #434B5C;\n",
              "      box-shadow: 0px 1px 3px 1px rgba(0, 0, 0, 0.15);\n",
              "      filter: drop-shadow(0px 1px 2px rgba(0, 0, 0, 0.3));\n",
              "      fill: #FFFFFF;\n",
              "    }\n",
              "  </style>\n",
              "\n",
              "      <script>\n",
              "        const buttonEl =\n",
              "          document.querySelector('#df-c70a7d75-aa49-4c14-8a62-a4d291870323 button.colab-df-convert');\n",
              "        buttonEl.style.display =\n",
              "          google.colab.kernel.accessAllowed ? 'block' : 'none';\n",
              "\n",
              "        async function convertToInteractive(key) {\n",
              "          const element = document.querySelector('#df-c70a7d75-aa49-4c14-8a62-a4d291870323');\n",
              "          const dataTable =\n",
              "            await google.colab.kernel.invokeFunction('convertToInteractive',\n",
              "                                                     [key], {});\n",
              "          if (!dataTable) return;\n",
              "\n",
              "          const docLinkHtml = 'Like what you see? Visit the ' +\n",
              "            '<a target=\"_blank\" href=https://colab.research.google.com/notebooks/data_table.ipynb>data table notebook</a>'\n",
              "            + ' to learn more about interactive tables.';\n",
              "          element.innerHTML = '';\n",
              "          dataTable['output_type'] = 'display_data';\n",
              "          await google.colab.output.renderOutput(dataTable, element);\n",
              "          const docLink = document.createElement('div');\n",
              "          docLink.innerHTML = docLinkHtml;\n",
              "          element.appendChild(docLink);\n",
              "        }\n",
              "      </script>\n",
              "    </div>\n",
              "  </div>\n",
              "  "
            ]
          },
          "metadata": {},
          "execution_count": 43
        }
      ],
      "source": [
        "path = \"/content/drive/MyDrive/Pedestrian_dataset/Dataset/OpenTraj/datasets/ETH/seq_eth/obsmat.txt\"\n",
        "csv_columns = [\"frame_id\", \"agent_id\", \"pos_x\", \"pos_z\", \"pos_y\", \"vel_x\", \"vel_z\", \"vel_y\"]\n",
        "df = pd.read_csv(path, sep=r\"\\s+\", header=None, names=csv_columns)\n",
        "df\n",
        "\n",
        "# Total Ped for : UCY_Zara01 = 148, ETH_hotel  = 432\n",
        "sub_df = df[df[\"agent_id\"]== 100]\n",
        "sub_df.head()"
      ]
    },
    {
      "cell_type": "code",
      "execution_count": null,
      "metadata": {
        "id": "_xZkpWMyOZ_K"
      },
      "outputs": [],
      "source": [
        "lookback = 8     # Looks back into 4 seconds of Past trajectory\n",
        "forward_pred = 12 # Predicts 3 seconds into the future \n",
        "training_fraction = 0.85  # on the number of agents\n",
        "\n",
        "unique_agent_ids = np.unique(df[\"agent_id\"])\n",
        "filtered_ids = []\n",
        "\n",
        "for agent_id in unique_agent_ids:\n",
        "  sub_df = df[df[\"agent_id\"]==agent_id]\n",
        "  if len(sub_df) < (lookback+forward_pred):\n",
        "    continue\n",
        "  else:\n",
        "    filtered_ids.append(agent_id)\n",
        "\n",
        "# random.shuffle(unique_agent_ids) # use this line to shuffle the training agent_ids\n",
        "num_unique_agents = len(filtered_ids)\n",
        "filtered_ids = np.array(filtered_ids)\n",
        "train_agents = (filtered_ids[:int(training_fraction*num_unique_agents)])\n",
        "test_agents = (filtered_ids[int(training_fraction*num_unique_agents):])\n"
      ]
    },
    {
      "cell_type": "code",
      "execution_count": null,
      "metadata": {
        "colab": {
          "base_uri": "https://localhost:8080/",
          "height": 206
        },
        "id": "szOp7UIpzN_i",
        "outputId": "71a337b1-0ecb-4b65-c691-1b7c640f395e"
      },
      "outputs": [
        {
          "output_type": "execute_result",
          "data": {
            "text/plain": [
              "     frame_id  agent_id     pos_x  pos_z     pos_y     vel_x  vel_z     vel_y\n",
              "110     948.0       8.0 -2.587750    0.0 -0.415001  0.828733    0.0  1.481026\n",
              "117     954.0       8.0 -2.256257    0.0  0.177410  1.142035    0.0  1.179354\n",
              "124     960.0       8.0 -1.674122    0.0  0.528483  1.089783    0.0  0.685588\n",
              "131     966.0       8.0 -1.384431    0.0  0.725880  1.206789    0.0  0.677196\n",
              "138     972.0       8.0 -0.708691    0.0  1.070239  1.282880    0.0  0.907473"
            ],
            "text/html": [
              "\n",
              "  <div id=\"df-eb2f5762-c9e3-4f79-843c-e5f394d33a5d\">\n",
              "    <div class=\"colab-df-container\">\n",
              "      <div>\n",
              "<style scoped>\n",
              "    .dataframe tbody tr th:only-of-type {\n",
              "        vertical-align: middle;\n",
              "    }\n",
              "\n",
              "    .dataframe tbody tr th {\n",
              "        vertical-align: top;\n",
              "    }\n",
              "\n",
              "    .dataframe thead th {\n",
              "        text-align: right;\n",
              "    }\n",
              "</style>\n",
              "<table border=\"1\" class=\"dataframe\">\n",
              "  <thead>\n",
              "    <tr style=\"text-align: right;\">\n",
              "      <th></th>\n",
              "      <th>frame_id</th>\n",
              "      <th>agent_id</th>\n",
              "      <th>pos_x</th>\n",
              "      <th>pos_z</th>\n",
              "      <th>pos_y</th>\n",
              "      <th>vel_x</th>\n",
              "      <th>vel_z</th>\n",
              "      <th>vel_y</th>\n",
              "    </tr>\n",
              "  </thead>\n",
              "  <tbody>\n",
              "    <tr>\n",
              "      <th>110</th>\n",
              "      <td>948.0</td>\n",
              "      <td>8.0</td>\n",
              "      <td>-2.587750</td>\n",
              "      <td>0.0</td>\n",
              "      <td>-0.415001</td>\n",
              "      <td>0.828733</td>\n",
              "      <td>0.0</td>\n",
              "      <td>1.481026</td>\n",
              "    </tr>\n",
              "    <tr>\n",
              "      <th>117</th>\n",
              "      <td>954.0</td>\n",
              "      <td>8.0</td>\n",
              "      <td>-2.256257</td>\n",
              "      <td>0.0</td>\n",
              "      <td>0.177410</td>\n",
              "      <td>1.142035</td>\n",
              "      <td>0.0</td>\n",
              "      <td>1.179354</td>\n",
              "    </tr>\n",
              "    <tr>\n",
              "      <th>124</th>\n",
              "      <td>960.0</td>\n",
              "      <td>8.0</td>\n",
              "      <td>-1.674122</td>\n",
              "      <td>0.0</td>\n",
              "      <td>0.528483</td>\n",
              "      <td>1.089783</td>\n",
              "      <td>0.0</td>\n",
              "      <td>0.685588</td>\n",
              "    </tr>\n",
              "    <tr>\n",
              "      <th>131</th>\n",
              "      <td>966.0</td>\n",
              "      <td>8.0</td>\n",
              "      <td>-1.384431</td>\n",
              "      <td>0.0</td>\n",
              "      <td>0.725880</td>\n",
              "      <td>1.206789</td>\n",
              "      <td>0.0</td>\n",
              "      <td>0.677196</td>\n",
              "    </tr>\n",
              "    <tr>\n",
              "      <th>138</th>\n",
              "      <td>972.0</td>\n",
              "      <td>8.0</td>\n",
              "      <td>-0.708691</td>\n",
              "      <td>0.0</td>\n",
              "      <td>1.070239</td>\n",
              "      <td>1.282880</td>\n",
              "      <td>0.0</td>\n",
              "      <td>0.907473</td>\n",
              "    </tr>\n",
              "  </tbody>\n",
              "</table>\n",
              "</div>\n",
              "      <button class=\"colab-df-convert\" onclick=\"convertToInteractive('df-eb2f5762-c9e3-4f79-843c-e5f394d33a5d')\"\n",
              "              title=\"Convert this dataframe to an interactive table.\"\n",
              "              style=\"display:none;\">\n",
              "        \n",
              "  <svg xmlns=\"http://www.w3.org/2000/svg\" height=\"24px\"viewBox=\"0 0 24 24\"\n",
              "       width=\"24px\">\n",
              "    <path d=\"M0 0h24v24H0V0z\" fill=\"none\"/>\n",
              "    <path d=\"M18.56 5.44l.94 2.06.94-2.06 2.06-.94-2.06-.94-.94-2.06-.94 2.06-2.06.94zm-11 1L8.5 8.5l.94-2.06 2.06-.94-2.06-.94L8.5 2.5l-.94 2.06-2.06.94zm10 10l.94 2.06.94-2.06 2.06-.94-2.06-.94-.94-2.06-.94 2.06-2.06.94z\"/><path d=\"M17.41 7.96l-1.37-1.37c-.4-.4-.92-.59-1.43-.59-.52 0-1.04.2-1.43.59L10.3 9.45l-7.72 7.72c-.78.78-.78 2.05 0 2.83L4 21.41c.39.39.9.59 1.41.59.51 0 1.02-.2 1.41-.59l7.78-7.78 2.81-2.81c.8-.78.8-2.07 0-2.86zM5.41 20L4 18.59l7.72-7.72 1.47 1.35L5.41 20z\"/>\n",
              "  </svg>\n",
              "      </button>\n",
              "      \n",
              "  <style>\n",
              "    .colab-df-container {\n",
              "      display:flex;\n",
              "      flex-wrap:wrap;\n",
              "      gap: 12px;\n",
              "    }\n",
              "\n",
              "    .colab-df-convert {\n",
              "      background-color: #E8F0FE;\n",
              "      border: none;\n",
              "      border-radius: 50%;\n",
              "      cursor: pointer;\n",
              "      display: none;\n",
              "      fill: #1967D2;\n",
              "      height: 32px;\n",
              "      padding: 0 0 0 0;\n",
              "      width: 32px;\n",
              "    }\n",
              "\n",
              "    .colab-df-convert:hover {\n",
              "      background-color: #E2EBFA;\n",
              "      box-shadow: 0px 1px 2px rgba(60, 64, 67, 0.3), 0px 1px 3px 1px rgba(60, 64, 67, 0.15);\n",
              "      fill: #174EA6;\n",
              "    }\n",
              "\n",
              "    [theme=dark] .colab-df-convert {\n",
              "      background-color: #3B4455;\n",
              "      fill: #D2E3FC;\n",
              "    }\n",
              "\n",
              "    [theme=dark] .colab-df-convert:hover {\n",
              "      background-color: #434B5C;\n",
              "      box-shadow: 0px 1px 3px 1px rgba(0, 0, 0, 0.15);\n",
              "      filter: drop-shadow(0px 1px 2px rgba(0, 0, 0, 0.3));\n",
              "      fill: #FFFFFF;\n",
              "    }\n",
              "  </style>\n",
              "\n",
              "      <script>\n",
              "        const buttonEl =\n",
              "          document.querySelector('#df-eb2f5762-c9e3-4f79-843c-e5f394d33a5d button.colab-df-convert');\n",
              "        buttonEl.style.display =\n",
              "          google.colab.kernel.accessAllowed ? 'block' : 'none';\n",
              "\n",
              "        async function convertToInteractive(key) {\n",
              "          const element = document.querySelector('#df-eb2f5762-c9e3-4f79-843c-e5f394d33a5d');\n",
              "          const dataTable =\n",
              "            await google.colab.kernel.invokeFunction('convertToInteractive',\n",
              "                                                     [key], {});\n",
              "          if (!dataTable) return;\n",
              "\n",
              "          const docLinkHtml = 'Like what you see? Visit the ' +\n",
              "            '<a target=\"_blank\" href=https://colab.research.google.com/notebooks/data_table.ipynb>data table notebook</a>'\n",
              "            + ' to learn more about interactive tables.';\n",
              "          element.innerHTML = '';\n",
              "          dataTable['output_type'] = 'display_data';\n",
              "          await google.colab.output.renderOutput(dataTable, element);\n",
              "          const docLink = document.createElement('div');\n",
              "          docLink.innerHTML = docLinkHtml;\n",
              "          element.appendChild(docLink);\n",
              "        }\n",
              "      </script>\n",
              "    </div>\n",
              "  </div>\n",
              "  "
            ]
          },
          "metadata": {},
          "execution_count": 45
        }
      ],
      "source": [
        "sub_df = df[df[\"agent_id\"]== 8]\n",
        "sub_df.head()"
      ]
    },
    {
      "cell_type": "code",
      "execution_count": null,
      "metadata": {
        "id": "4II40aWfO6W1"
      },
      "outputs": [],
      "source": [
        "def create_dataset(dataframe, agent_id_list, lookback, forward_pred):\n",
        "  data_x = []\n",
        "  data_y = []\n",
        "  for agent_id in agent_id_list:\n",
        "    sub_df = dataframe[dataframe[\"agent_id\"]==agent_id]\n",
        "    \n",
        "    for j in range(len(sub_df)-lookback-forward_pred+1):\n",
        "        data_x.append(sub_df.iloc[j:j+lookback, [df.columns.get_loc(c) for c in [\"pos_x\",\"pos_y\",\"vel_x\",\"vel_y\"]]].to_numpy()) # pos_x = 3, pos_y = 5, .... (from the indices of the dataframe)\n",
        "        data_y.append(sub_df.iloc[j+lookback:j+lookback+forward_pred, [df.columns.get_loc(c) for c in [\"pos_x\",\"pos_y\",\"vel_x\",\"vel_y\"]]].to_numpy())\n",
        "      # break\n",
        "    # break\n",
        "\n",
        "  return np.array(data_x), np.array(data_y)"
      ]
    },
    {
      "cell_type": "code",
      "execution_count": null,
      "metadata": {
        "id": "JlntgBUnT9CT"
      },
      "outputs": [],
      "source": [
        "train_x, train_y = create_dataset(df, train_agents, lookback, forward_pred)\n",
        "test_x, test_y = create_dataset(df, test_agents, lookback, forward_pred)"
      ]
    },
    {
      "cell_type": "code",
      "execution_count": null,
      "metadata": {
        "colab": {
          "base_uri": "https://localhost:8080/"
        },
        "id": "3U2YbVSjUyqJ",
        "outputId": "47031640-53a6-48a8-d4cc-62e33c8d1ea1"
      },
      "outputs": [
        {
          "output_type": "stream",
          "name": "stdout",
          "text": [
            "Training Datasets: (2195, 8, 4) (2195, 12, 4)\n",
            "Test Datasets: (419, 8, 4) (419, 12, 4)\n"
          ]
        }
      ],
      "source": [
        "print(\"Training Datasets:\", train_x.shape, train_y.shape)\n",
        "print(\"Test Datasets:\", test_x.shape, test_y.shape)"
      ]
    },
    {
      "cell_type": "code",
      "source": [
        "# Normalize the data:\n",
        "scaler = MinMaxScaler(feature_range=(-1, 1))\n",
        "train_x = scaler.fit_transform(train_x.reshape(-1, train_x.shape[-1])).reshape(train_x.shape)\n",
        "train_y = scaler.transform(train_y.reshape(-1, train_y.shape[-1])).reshape(train_y.shape)\n",
        "test_x = scaler.transform(test_x.reshape(-1, test_x.shape[-1])).reshape(test_x.shape)\n",
        "test_y = scaler.transform(test_y.reshape(-1, test_y.shape[-1])).reshape(test_y.shape)\n"
      ],
      "metadata": {
        "id": "-qU3XjC_HFBi"
      },
      "execution_count": null,
      "outputs": []
    },
    {
      "cell_type": "code",
      "execution_count": null,
      "metadata": {
        "colab": {
          "base_uri": "https://localhost:8080/"
        },
        "outputId": "6013ba96-a107-4a64-8415-a449487bd950",
        "id": "lnKw1IIDLa5A"
      },
      "outputs": [
        {
          "output_type": "stream",
          "name": "stdout",
          "text": [
            "KerasTensor(type_spec=TensorSpec(shape=(None, 8, 4), dtype=tf.float32, name='input_2'), name='input_2', description=\"created by layer 'input_2'\")\n",
            "Model: \"model_1\"\n",
            "_________________________________________________________________\n",
            " Layer (type)                Output Shape              Param #   \n",
            "=================================================================\n",
            " input_2 (InputLayer)        [(None, 8, 4)]            0         \n",
            "                                                                 \n",
            " lstm_3 (LSTM)               (None, 8, 128)            68096     \n",
            "                                                                 \n",
            " lstm_4 (LSTM)               (None, 64)                49408     \n",
            "                                                                 \n",
            " repeat_vector_1 (RepeatVect  (None, 12, 64)           0         \n",
            " or)                                                             \n",
            "                                                                 \n",
            " lstm_5 (LSTM)               (None, 12, 128)           98816     \n",
            "                                                                 \n",
            " time_distributed_1 (TimeDis  (None, 12, 4)            516       \n",
            " tributed)                                                       \n",
            "                                                                 \n",
            "=================================================================\n",
            "Total params: 216,836\n",
            "Trainable params: 216,836\n",
            "Non-trainable params: 0\n",
            "_________________________________________________________________\n"
          ]
        }
      ],
      "source": [
        "from keras.models import Model\n",
        "from keras.layers import Input, LSTM, Dense, RepeatVector, TimeDistributed\n",
        "from keras import backend as K\n",
        "# from keras import optimizers\n",
        "from keras.callbacks import TerminateOnNaN\n",
        "from keras.layers import Dropout\n",
        "from keras import regularizers\n",
        "from keras.models import Model\n",
        "from keras.callbacks import EarlyStopping, ReduceLROnPlateau, ModelCheckpoint\n",
        "# from keras.optimizers import Adam\n",
        "\n",
        "# latent_dim = 128\n",
        "\n",
        "# # Define an input sequence and process it.\n",
        "# encoder_inputs = Input(shape=(lookback, train_x.shape[2]))\n",
        "# encoder = LSTM(latent_dim, return_state=True)\n",
        "# encoder_outputs, state_h, state_c = encoder(encoder_inputs)\n",
        "# # We discard `encoder_outputs` and only keep the states.\n",
        "# encoder_states = [state_h, state_c]\n",
        "\n",
        "# # Set up the decoder, using `encoder_states` as initial state.\n",
        "# decoder_inputs = Input(shape=(None, latent_dim))\n",
        "# # We set up our decoder to return full output sequences,\n",
        "# # and to return internal states as well. We don't use the \n",
        "# # return states in the training model, but we will use them in inference.\n",
        "# decoder_lstm = LSTM(latent_dim, return_sequences=True, return_state=True)\n",
        "# decoder_outputs, _, _ = decoder_lstm(decoder_inputs,\n",
        "#                                      initial_state=encoder_states)\n",
        "# decoder_dense = Dense(train_y.shape[2], activation='linear')\n",
        "# decoder_outputs = decoder_dense(decoder_outputs)\n",
        "\n",
        "# # Define the model that will turn\n",
        "# # `encoder_input_data` & `decoder_input_data` into `decoder_target_data`\n",
        "# model = Model([encoder_inputs, decoder_inputs], decoder_outputs)\n",
        "\n",
        "\n",
        "\n",
        "\n",
        "\n",
        "def root_mean_squared_error(y_true, y_pred):\n",
        "    return K.sqrt(K.mean(K.square(y_pred - y_true), axis=-1))\n",
        "\n",
        "\n",
        "input_sequence = Input(shape=(lookback, train_x.shape[2]))\n",
        "print(input_sequence)\n",
        "encoder = LSTM(128, activation='tanh',return_sequences=True, dropout = 0.1)(input_sequence, training = True)\n",
        "encoder = LSTM(64, activation='tanh', return_sequences=False, dropout = 0.3)(encoder)\n",
        "r_vec = RepeatVector(forward_pred)(encoder)\n",
        "decoder = LSTM(128, return_sequences=True, activation = 'tanh', dropout=0.3)(r_vec) # maybe use dropout=0.1\n",
        "output = TimeDistributed(Dense(train_y.shape[2], activation='linear'))(decoder)\n",
        "\n",
        "\n",
        "# optimiser = optimizers.Adam(clipnorm=1)\n",
        "\n",
        "enc_dec_model = Model(input_sequence, output)\n",
        "enc_dec_model.compile(loss=\"mean_squared_error\",\n",
        "              optimizer=\"adam\",\n",
        "              metrics=['mean_squared_error'])\n",
        "enc_dec_model.summary()"
      ]
    },
    {
      "cell_type": "code",
      "source": [
        "checkpoint_filepath = 'path_to_checkpoint_filepath'\n",
        "checkpoint_callback = ModelCheckpoint(\n",
        " filepath=checkpoint_filepath,\n",
        " save_weights_only=False,\n",
        " monitor='val_loss',\n",
        " mode='min',\n",
        " save_best_only=True)\n",
        "early_stopping_callback = EarlyStopping(\n",
        " monitor='val_loss',\n",
        " min_delta=0.002,\n",
        " patience=10,\n",
        " mode='min'\n",
        ")\n",
        "rlrop_callback = ReduceLROnPlateau(monitor='loss', factor=0.2, mode='min', patience=3, min_lr=0.002)"
      ],
      "metadata": {
        "id": "wxwQ9hguIIo-"
      },
      "execution_count": null,
      "outputs": []
    },
    {
      "cell_type": "code",
      "execution_count": null,
      "metadata": {
        "id": "UucqxxH_U-6V",
        "colab": {
          "base_uri": "https://localhost:8080/"
        },
        "outputId": "d91c4dd0-b9b3-4197-d8d2-486b563a824d"
      },
      "outputs": [
        {
          "output_type": "stream",
          "name": "stdout",
          "text": [
            "Epoch 1/50\n",
            "60/62 [============================>.] - ETA: 0s - loss: 0.0401 - mean_squared_error: 0.0401"
          ]
        },
        {
          "output_type": "stream",
          "name": "stderr",
          "text": [
            "WARNING:absl:Found untraced functions such as lstm_cell_3_layer_call_fn, lstm_cell_3_layer_call_and_return_conditional_losses, lstm_cell_4_layer_call_fn, lstm_cell_4_layer_call_and_return_conditional_losses, lstm_cell_5_layer_call_fn while saving (showing 5 of 6). These functions will not be directly callable after loading.\n",
            "WARNING:absl:<keras.layers.recurrent.LSTMCell object at 0x7fad59bc9710> has the same name 'LSTMCell' as a built-in Keras object. Consider renaming <class 'keras.layers.recurrent.LSTMCell'> to avoid naming conflicts when loading with `tf.keras.models.load_model`. If renaming is not possible, pass the object in the `custom_objects` parameter of the load function.\n",
            "WARNING:absl:<keras.layers.recurrent.LSTMCell object at 0x7fad598ff950> has the same name 'LSTMCell' as a built-in Keras object. Consider renaming <class 'keras.layers.recurrent.LSTMCell'> to avoid naming conflicts when loading with `tf.keras.models.load_model`. If renaming is not possible, pass the object in the `custom_objects` parameter of the load function.\n",
            "WARNING:absl:<keras.layers.recurrent.LSTMCell object at 0x7fad830d1910> has the same name 'LSTMCell' as a built-in Keras object. Consider renaming <class 'keras.layers.recurrent.LSTMCell'> to avoid naming conflicts when loading with `tf.keras.models.load_model`. If renaming is not possible, pass the object in the `custom_objects` parameter of the load function.\n"
          ]
        },
        {
          "output_type": "stream",
          "name": "stdout",
          "text": [
            "\b\b\b\b\b\b\b\b\b\b\b\b\b\b\b\b\b\b\b\b\b\b\b\b\b\b\b\b\b\b\b\b\b\b\b\b\b\b\b\b\b\b\b\b\b\b\b\b\b\b\b\b\b\b\b\b\b\b\b\b\b\b\b\b\b\b\b\b\b\b\b\b\b\b\b\b\b\b\b\b\b\b\b\b\b\b\b\b\b\b\b\b\r62/62 [==============================] - 18s 223ms/step - loss: 0.0396 - mean_squared_error: 0.0396 - val_loss: 0.0185 - val_mean_squared_error: 0.0185 - lr: 0.0010\n",
            "Epoch 2/50\n",
            "57/62 [==========================>...] - ETA: 0s - loss: 0.0170 - mean_squared_error: 0.0170"
          ]
        },
        {
          "output_type": "stream",
          "name": "stderr",
          "text": [
            "WARNING:absl:Found untraced functions such as lstm_cell_3_layer_call_fn, lstm_cell_3_layer_call_and_return_conditional_losses, lstm_cell_4_layer_call_fn, lstm_cell_4_layer_call_and_return_conditional_losses, lstm_cell_5_layer_call_fn while saving (showing 5 of 6). These functions will not be directly callable after loading.\n",
            "WARNING:absl:<keras.layers.recurrent.LSTMCell object at 0x7fad59bc9710> has the same name 'LSTMCell' as a built-in Keras object. Consider renaming <class 'keras.layers.recurrent.LSTMCell'> to avoid naming conflicts when loading with `tf.keras.models.load_model`. If renaming is not possible, pass the object in the `custom_objects` parameter of the load function.\n",
            "WARNING:absl:<keras.layers.recurrent.LSTMCell object at 0x7fad598ff950> has the same name 'LSTMCell' as a built-in Keras object. Consider renaming <class 'keras.layers.recurrent.LSTMCell'> to avoid naming conflicts when loading with `tf.keras.models.load_model`. If renaming is not possible, pass the object in the `custom_objects` parameter of the load function.\n",
            "WARNING:absl:<keras.layers.recurrent.LSTMCell object at 0x7fad830d1910> has the same name 'LSTMCell' as a built-in Keras object. Consider renaming <class 'keras.layers.recurrent.LSTMCell'> to avoid naming conflicts when loading with `tf.keras.models.load_model`. If renaming is not possible, pass the object in the `custom_objects` parameter of the load function.\n"
          ]
        },
        {
          "output_type": "stream",
          "name": "stdout",
          "text": [
            "\b\b\b\b\b\b\b\b\b\b\b\b\b\b\b\b\b\b\b\b\b\b\b\b\b\b\b\b\b\b\b\b\b\b\b\b\b\b\b\b\b\b\b\b\b\b\b\b\b\b\b\b\b\b\b\b\b\b\b\b\b\b\b\b\b\b\b\b\b\b\b\b\b\b\b\b\b\b\b\b\b\b\b\b\b\b\b\b\b\b\b\b\r62/62 [==============================] - 12s 202ms/step - loss: 0.0169 - mean_squared_error: 0.0169 - val_loss: 0.0160 - val_mean_squared_error: 0.0160 - lr: 0.0010\n",
            "Epoch 3/50\n",
            "62/62 [==============================] - ETA: 0s - loss: 0.0146 - mean_squared_error: 0.0146"
          ]
        },
        {
          "output_type": "stream",
          "name": "stderr",
          "text": [
            "WARNING:absl:Found untraced functions such as lstm_cell_3_layer_call_fn, lstm_cell_3_layer_call_and_return_conditional_losses, lstm_cell_4_layer_call_fn, lstm_cell_4_layer_call_and_return_conditional_losses, lstm_cell_5_layer_call_fn while saving (showing 5 of 6). These functions will not be directly callable after loading.\n",
            "WARNING:absl:<keras.layers.recurrent.LSTMCell object at 0x7fad59bc9710> has the same name 'LSTMCell' as a built-in Keras object. Consider renaming <class 'keras.layers.recurrent.LSTMCell'> to avoid naming conflicts when loading with `tf.keras.models.load_model`. If renaming is not possible, pass the object in the `custom_objects` parameter of the load function.\n",
            "WARNING:absl:<keras.layers.recurrent.LSTMCell object at 0x7fad598ff950> has the same name 'LSTMCell' as a built-in Keras object. Consider renaming <class 'keras.layers.recurrent.LSTMCell'> to avoid naming conflicts when loading with `tf.keras.models.load_model`. If renaming is not possible, pass the object in the `custom_objects` parameter of the load function.\n",
            "WARNING:absl:<keras.layers.recurrent.LSTMCell object at 0x7fad830d1910> has the same name 'LSTMCell' as a built-in Keras object. Consider renaming <class 'keras.layers.recurrent.LSTMCell'> to avoid naming conflicts when loading with `tf.keras.models.load_model`. If renaming is not possible, pass the object in the `custom_objects` parameter of the load function.\n"
          ]
        },
        {
          "output_type": "stream",
          "name": "stdout",
          "text": [
            "\b\b\b\b\b\b\b\b\b\b\b\b\b\b\b\b\b\b\b\b\b\b\b\b\b\b\b\b\b\b\b\b\b\b\b\b\b\b\b\b\b\b\b\b\b\b\b\b\b\b\b\b\b\b\b\b\b\b\b\b\b\b\b\b\b\b\b\b\b\b\b\b\b\b\b\b\b\b\b\b\b\b\b\b\b\b\b\b\b\b\b\b\r62/62 [==============================] - 14s 223ms/step - loss: 0.0146 - mean_squared_error: 0.0146 - val_loss: 0.0140 - val_mean_squared_error: 0.0140 - lr: 0.0010\n",
            "Epoch 4/50\n",
            "56/62 [==========================>...] - ETA: 0s - loss: 0.0131 - mean_squared_error: 0.0131"
          ]
        },
        {
          "output_type": "stream",
          "name": "stderr",
          "text": [
            "WARNING:absl:Found untraced functions such as lstm_cell_3_layer_call_fn, lstm_cell_3_layer_call_and_return_conditional_losses, lstm_cell_4_layer_call_fn, lstm_cell_4_layer_call_and_return_conditional_losses, lstm_cell_5_layer_call_fn while saving (showing 5 of 6). These functions will not be directly callable after loading.\n",
            "WARNING:absl:<keras.layers.recurrent.LSTMCell object at 0x7fad59bc9710> has the same name 'LSTMCell' as a built-in Keras object. Consider renaming <class 'keras.layers.recurrent.LSTMCell'> to avoid naming conflicts when loading with `tf.keras.models.load_model`. If renaming is not possible, pass the object in the `custom_objects` parameter of the load function.\n",
            "WARNING:absl:<keras.layers.recurrent.LSTMCell object at 0x7fad598ff950> has the same name 'LSTMCell' as a built-in Keras object. Consider renaming <class 'keras.layers.recurrent.LSTMCell'> to avoid naming conflicts when loading with `tf.keras.models.load_model`. If renaming is not possible, pass the object in the `custom_objects` parameter of the load function.\n",
            "WARNING:absl:<keras.layers.recurrent.LSTMCell object at 0x7fad830d1910> has the same name 'LSTMCell' as a built-in Keras object. Consider renaming <class 'keras.layers.recurrent.LSTMCell'> to avoid naming conflicts when loading with `tf.keras.models.load_model`. If renaming is not possible, pass the object in the `custom_objects` parameter of the load function.\n"
          ]
        },
        {
          "output_type": "stream",
          "name": "stdout",
          "text": [
            "\b\b\b\b\b\b\b\b\b\b\b\b\b\b\b\b\b\b\b\b\b\b\b\b\b\b\b\b\b\b\b\b\b\b\b\b\b\b\b\b\b\b\b\b\b\b\b\b\b\b\b\b\b\b\b\b\b\b\b\b\b\b\b\b\b\b\b\b\b\b\b\b\b\b\b\b\b\b\b\b\b\b\b\b\b\b\b\b\b\b\b\b\r62/62 [==============================] - 13s 221ms/step - loss: 0.0130 - mean_squared_error: 0.0130 - val_loss: 0.0131 - val_mean_squared_error: 0.0131 - lr: 0.0010\n",
            "Epoch 5/50\n",
            "62/62 [==============================] - 1s 9ms/step - loss: 0.0126 - mean_squared_error: 0.0126 - val_loss: 0.0132 - val_mean_squared_error: 0.0132 - lr: 0.0010\n",
            "Epoch 6/50\n",
            "62/62 [==============================] - ETA: 0s - loss: 0.0115 - mean_squared_error: 0.0115"
          ]
        },
        {
          "output_type": "stream",
          "name": "stderr",
          "text": [
            "WARNING:absl:Found untraced functions such as lstm_cell_3_layer_call_fn, lstm_cell_3_layer_call_and_return_conditional_losses, lstm_cell_4_layer_call_fn, lstm_cell_4_layer_call_and_return_conditional_losses, lstm_cell_5_layer_call_fn while saving (showing 5 of 6). These functions will not be directly callable after loading.\n",
            "WARNING:absl:<keras.layers.recurrent.LSTMCell object at 0x7fad59bc9710> has the same name 'LSTMCell' as a built-in Keras object. Consider renaming <class 'keras.layers.recurrent.LSTMCell'> to avoid naming conflicts when loading with `tf.keras.models.load_model`. If renaming is not possible, pass the object in the `custom_objects` parameter of the load function.\n",
            "WARNING:absl:<keras.layers.recurrent.LSTMCell object at 0x7fad598ff950> has the same name 'LSTMCell' as a built-in Keras object. Consider renaming <class 'keras.layers.recurrent.LSTMCell'> to avoid naming conflicts when loading with `tf.keras.models.load_model`. If renaming is not possible, pass the object in the `custom_objects` parameter of the load function.\n",
            "WARNING:absl:<keras.layers.recurrent.LSTMCell object at 0x7fad830d1910> has the same name 'LSTMCell' as a built-in Keras object. Consider renaming <class 'keras.layers.recurrent.LSTMCell'> to avoid naming conflicts when loading with `tf.keras.models.load_model`. If renaming is not possible, pass the object in the `custom_objects` parameter of the load function.\n"
          ]
        },
        {
          "output_type": "stream",
          "name": "stdout",
          "text": [
            "\b\b\b\b\b\b\b\b\b\b\b\b\b\b\b\b\b\b\b\b\b\b\b\b\b\b\b\b\b\b\b\b\b\b\b\b\b\b\b\b\b\b\b\b\b\b\b\b\b\b\b\b\b\b\b\b\b\b\b\b\b\b\b\b\b\b\b\b\b\b\b\b\b\b\b\b\b\b\b\b\b\b\b\b\b\b\b\b\b\b\b\b\r62/62 [==============================] - 13s 205ms/step - loss: 0.0115 - mean_squared_error: 0.0115 - val_loss: 0.0117 - val_mean_squared_error: 0.0117 - lr: 0.0010\n",
            "Epoch 7/50\n",
            "62/62 [==============================] - 1s 9ms/step - loss: 0.0109 - mean_squared_error: 0.0109 - val_loss: 0.0120 - val_mean_squared_error: 0.0120 - lr: 0.0010\n",
            "Epoch 8/50\n",
            "62/62 [==============================] - 1s 9ms/step - loss: 0.0108 - mean_squared_error: 0.0108 - val_loss: 0.0137 - val_mean_squared_error: 0.0137 - lr: 0.0010\n",
            "Epoch 9/50\n",
            "62/62 [==============================] - ETA: 0s - loss: 0.0106 - mean_squared_error: 0.0106"
          ]
        },
        {
          "output_type": "stream",
          "name": "stderr",
          "text": [
            "WARNING:absl:Found untraced functions such as lstm_cell_3_layer_call_fn, lstm_cell_3_layer_call_and_return_conditional_losses, lstm_cell_4_layer_call_fn, lstm_cell_4_layer_call_and_return_conditional_losses, lstm_cell_5_layer_call_fn while saving (showing 5 of 6). These functions will not be directly callable after loading.\n",
            "WARNING:absl:<keras.layers.recurrent.LSTMCell object at 0x7fad59bc9710> has the same name 'LSTMCell' as a built-in Keras object. Consider renaming <class 'keras.layers.recurrent.LSTMCell'> to avoid naming conflicts when loading with `tf.keras.models.load_model`. If renaming is not possible, pass the object in the `custom_objects` parameter of the load function.\n",
            "WARNING:absl:<keras.layers.recurrent.LSTMCell object at 0x7fad598ff950> has the same name 'LSTMCell' as a built-in Keras object. Consider renaming <class 'keras.layers.recurrent.LSTMCell'> to avoid naming conflicts when loading with `tf.keras.models.load_model`. If renaming is not possible, pass the object in the `custom_objects` parameter of the load function.\n",
            "WARNING:absl:<keras.layers.recurrent.LSTMCell object at 0x7fad830d1910> has the same name 'LSTMCell' as a built-in Keras object. Consider renaming <class 'keras.layers.recurrent.LSTMCell'> to avoid naming conflicts when loading with `tf.keras.models.load_model`. If renaming is not possible, pass the object in the `custom_objects` parameter of the load function.\n"
          ]
        },
        {
          "output_type": "stream",
          "name": "stdout",
          "text": [
            "\b\b\b\b\b\b\b\b\b\b\b\b\b\b\b\b\b\b\b\b\b\b\b\b\b\b\b\b\b\b\b\b\b\b\b\b\b\b\b\b\b\b\b\b\b\b\b\b\b\b\b\b\b\b\b\b\b\b\b\b\b\b\b\b\b\b\b\b\b\b\b\b\b\b\b\b\b\b\b\b\b\b\b\b\b\b\b\b\b\b\b\b\r62/62 [==============================] - 13s 206ms/step - loss: 0.0106 - mean_squared_error: 0.0106 - val_loss: 0.0114 - val_mean_squared_error: 0.0114 - lr: 0.0010\n",
            "Epoch 10/50\n",
            "62/62 [==============================] - 1s 9ms/step - loss: 0.0103 - mean_squared_error: 0.0103 - val_loss: 0.0121 - val_mean_squared_error: 0.0121 - lr: 0.0010\n",
            "Epoch 11/50\n",
            "62/62 [==============================] - 1s 9ms/step - loss: 0.0099 - mean_squared_error: 0.0099 - val_loss: 0.0127 - val_mean_squared_error: 0.0127 - lr: 0.0010\n",
            "Epoch 12/50\n",
            "61/62 [============================>.] - ETA: 0s - loss: 0.0098 - mean_squared_error: 0.0098"
          ]
        },
        {
          "output_type": "stream",
          "name": "stderr",
          "text": [
            "WARNING:absl:Found untraced functions such as lstm_cell_3_layer_call_fn, lstm_cell_3_layer_call_and_return_conditional_losses, lstm_cell_4_layer_call_fn, lstm_cell_4_layer_call_and_return_conditional_losses, lstm_cell_5_layer_call_fn while saving (showing 5 of 6). These functions will not be directly callable after loading.\n",
            "WARNING:absl:<keras.layers.recurrent.LSTMCell object at 0x7fad59bc9710> has the same name 'LSTMCell' as a built-in Keras object. Consider renaming <class 'keras.layers.recurrent.LSTMCell'> to avoid naming conflicts when loading with `tf.keras.models.load_model`. If renaming is not possible, pass the object in the `custom_objects` parameter of the load function.\n",
            "WARNING:absl:<keras.layers.recurrent.LSTMCell object at 0x7fad598ff950> has the same name 'LSTMCell' as a built-in Keras object. Consider renaming <class 'keras.layers.recurrent.LSTMCell'> to avoid naming conflicts when loading with `tf.keras.models.load_model`. If renaming is not possible, pass the object in the `custom_objects` parameter of the load function.\n",
            "WARNING:absl:<keras.layers.recurrent.LSTMCell object at 0x7fad830d1910> has the same name 'LSTMCell' as a built-in Keras object. Consider renaming <class 'keras.layers.recurrent.LSTMCell'> to avoid naming conflicts when loading with `tf.keras.models.load_model`. If renaming is not possible, pass the object in the `custom_objects` parameter of the load function.\n"
          ]
        },
        {
          "output_type": "stream",
          "name": "stdout",
          "text": [
            "\b\b\b\b\b\b\b\b\b\b\b\b\b\b\b\b\b\b\b\b\b\b\b\b\b\b\b\b\b\b\b\b\b\b\b\b\b\b\b\b\b\b\b\b\b\b\b\b\b\b\b\b\b\b\b\b\b\b\b\b\b\b\b\b\b\b\b\b\b\b\b\b\b\b\b\b\b\b\b\b\b\b\b\b\b\b\b\b\b\b\b\b\r62/62 [==============================] - 13s 208ms/step - loss: 0.0097 - mean_squared_error: 0.0097 - val_loss: 0.0112 - val_mean_squared_error: 0.0112 - lr: 0.0010\n",
            "Epoch 13/50\n",
            "62/62 [==============================] - 1s 10ms/step - loss: 0.0098 - mean_squared_error: 0.0098 - val_loss: 0.0119 - val_mean_squared_error: 0.0119 - lr: 0.0010\n",
            "Epoch 14/50\n",
            "62/62 [==============================] - 1s 9ms/step - loss: 0.0095 - mean_squared_error: 0.0095 - val_loss: 0.0119 - val_mean_squared_error: 0.0119 - lr: 0.0010\n"
          ]
        }
      ],
      "source": [
        "# patience_val = 100\n",
        "# early_stopping = EarlyStopping(\n",
        "#                             monitor = 'val_main_output_loss', \n",
        "#                             patience = patience_val, \n",
        "#                             verbose=1)\n",
        "\n",
        "epochs = 50\n",
        "batch_size = 32\n",
        "validation = 0.1\n",
        "# callbacks=[early_stopping_callback, checkpoint_callback, rlrop_callback]\n",
        "history = enc_dec_model.fit(train_x, train_y, epochs=epochs, batch_size=batch_size, validation_split=validation, callbacks=[early_stopping_callback, checkpoint_callback, rlrop_callback])"
      ]
    },
    {
      "cell_type": "code",
      "execution_count": null,
      "metadata": {
        "colab": {
          "base_uri": "https://localhost:8080/",
          "height": 295
        },
        "id": "NTRDsVQcX5OJ",
        "outputId": "bdae4e41-f194-4189-afcb-a92effe75643"
      },
      "outputs": [
        {
          "output_type": "display_data",
          "data": {
            "text/plain": [
              "<Figure size 432x288 with 1 Axes>"
            ],
            "image/png": "[encoded data removed]"
          },
          "metadata": {}
        }
      ],
      "source": [
        "# summarize history for loss\n",
        "plt.plot(history.history['loss'])\n",
        "# plt.plot(history.history['val_loss'])\n",
        "plt.title('model loss')\n",
        "plt.ylabel('loss')\n",
        "plt.xlabel('epoch')\n",
        "plt.legend(['train', 'test'], loc='upper left')\n",
        "plt.show()"
      ]
    },
    {
      "cell_type": "code",
      "source": [
        "print(test_y)"
      ],
      "metadata": {
        "colab": {
          "base_uri": "https://localhost:8080/"
        },
        "id": "2J3ib7QFnGBm",
        "outputId": "14ce3d3b-b120-48b3-ea00-04d9b19113ce"
      },
      "execution_count": null,
      "outputs": [
        {
          "output_type": "stream",
          "name": "stdout",
          "text": [
            "[[[-0.14037665 -0.31836351  0.47546125  0.14817728]\n",
            "  [-0.09386833 -0.29026447  0.46992793  0.1453057 ]\n",
            "  [-0.04857663 -0.27384609  0.48631711  0.10758847]\n",
            "  ...\n",
            "  [ 0.32069433 -0.1716532   0.56758692 -0.01121756]\n",
            "  [ 0.37844929 -0.16268561  0.55968362 -0.0128318 ]\n",
            "  [ 0.43099217 -0.1537193   0.56991244 -0.07767542]]\n",
            "\n",
            " [[-0.09386833 -0.29026447  0.46992793  0.1453057 ]\n",
            "  [-0.04857663 -0.27384609  0.48631711  0.10758847]\n",
            "  [ 0.00130936 -0.25208746  0.43433057  0.10613673]\n",
            "  ...\n",
            "  [ 0.37844929 -0.16268561  0.55968362 -0.0128318 ]\n",
            "  [ 0.43099217 -0.1537193   0.56991244 -0.07767542]\n",
            "  [ 0.4908552  -0.15565218  0.56024631 -0.14072288]]\n",
            "\n",
            " [[-0.04857663 -0.27384609  0.48631711  0.10758847]\n",
            "  [ 0.00130936 -0.25208746  0.43433057  0.10613673]\n",
            "  [ 0.03588711 -0.23591311  0.47463924  0.10184584]\n",
            "  ...\n",
            "  [ 0.43099217 -0.1537193   0.56991244 -0.07767542]\n",
            "  [ 0.4908552  -0.15565218  0.56024631 -0.14072288]\n",
            "  [ 0.54140598 -0.15728438  0.5335652  -0.07810474]]\n",
            "\n",
            " ...\n",
            "\n",
            " [[ 0.1813709   0.22853063  0.67891763  0.10451014]\n",
            "  [ 0.24550071  0.23933263  0.6426267   0.03917448]\n",
            "  [ 0.30876254  0.25520699  0.65300878  0.03444374]\n",
            "  ...\n",
            "  [ 0.74666564  0.26235753  0.43936089 -0.25433462]\n",
            "  [ 0.79283791  0.2433133   0.45133652 -0.34272414]\n",
            "  [ 0.83463416  0.22483528  0.37147181 -0.39042256]]\n",
            "\n",
            " [[ 0.24550071  0.23933263  0.6426267   0.03917448]\n",
            "  [ 0.30876254  0.25520699  0.65300878  0.03444374]\n",
            "  [ 0.37503199  0.26521374  0.78121751 -0.13759254]\n",
            "  ...\n",
            "  [ 0.79283791  0.2433133   0.45133652 -0.34272414]\n",
            "  [ 0.83463416  0.22483528  0.37147181 -0.39042256]\n",
            "  [ 0.86434702  0.19777275  0.31284098 -0.44148923]]\n",
            "\n",
            " [[ 0.77006653  0.38346192  0.00645837 -0.08787086]\n",
            "  [ 0.77006653  0.38346192  0.02449295 -0.11951531]\n",
            "  [ 0.77006653  0.38346192  0.02449295 -0.11951531]\n",
            "  ...\n",
            "  [ 0.77006653  0.38346192  0.02449295 -0.11951531]\n",
            "  [ 0.77006653  0.38346192  0.02449295 -0.11951531]\n",
            "  [ 0.77006653  0.38346192  0.02449295 -0.11951531]]]\n"
          ]
        }
      ]
    },
    {
      "cell_type": "code",
      "execution_count": null,
      "metadata": {
        "colab": {
          "base_uri": "https://localhost:8080/"
        },
        "id": "cwK9KOVJU-9L",
        "outputId": "867fa7ee-e287-40b6-b857-e44d18e89d48"
      },
      "outputs": [
        {
          "output_type": "stream",
          "name": "stdout",
          "text": [
            "14/14 - 0s - loss: 0.0102 - mean_squared_error: 0.0102 - 63ms/epoch - 5ms/step\n",
            "0.01020087394863367\n"
          ]
        }
      ],
      "source": [
        "# test_x = tf.stack(test_x)\n",
        "# test_y = tf.stack(test_y)\n",
        "score = enc_dec_model.evaluate(test_x, np.squeeze(test_y), verbose=2)\n",
        "print(score[0])"
      ]
    },
    {
      "cell_type": "code",
      "execution_count": null,
      "metadata": {
        "colab": {
          "base_uri": "https://localhost:8080/"
        },
        "id": "W9e1RrQ1UsAg",
        "outputId": "c80a0eed-56bf-48e3-cd8f-5ba47b1580f3"
      },
      "outputs": [
        {
          "output_type": "stream",
          "name": "stdout",
          "text": [
            "(419, 12, 4)\n"
          ]
        }
      ],
      "source": [
        "test_pred = enc_dec_model.predict(test_x)\n",
        "train_pred = enc_dec_model.predict(train_x)\n",
        "print(test_pred.shape)\n",
        "\n",
        "# test_pred = scaler.inverse_transform(test_pred.reshape(-1, test_pred.shape[-1])).reshape(test_pred.shape)\n",
        "# train_pred = scaler.inverse_transform(train_pred.reshape(-1, train_pred.shape[-1])).reshape(train_pred.shape)"
      ]
    },
    {
      "cell_type": "markdown",
      "source": [
        "## Monte Carlo Dropout"
      ],
      "metadata": {
        "id": "sTH4HE_Q-Fwy"
      }
    },
    {
      "cell_type": "code",
      "execution_count": null,
      "metadata": {
        "id": "XQpK1POv_dcd"
      },
      "outputs": [],
      "source": [
        "def predict_dropout(model, x, samples=100):\n",
        "    '''\n",
        "    Args:\n",
        "        model: The trained keras model\n",
        "        x: the input tensor with shape [N, M]\n",
        "        samples: the number of monte carlo samples to collect\n",
        "    Returns:\n",
        "        y_mean: The expected value of our prediction\n",
        "        y_std: The standard deviation of our prediction\n",
        "    '''\n",
        "    mu_arr = []\n",
        "    si_arr = []\n",
        "    y_pred_do = []\n",
        "\n",
        "    for t in range(samples):\n",
        "        y_pred = model(x, training=True)\n",
        "        y_pred_do.append(y_pred)\n",
        "\n",
        "    y_pred_do = np.array(y_pred_do)\n",
        "\n",
        "\n",
        "    return y_pred_do "
      ]
    },
    {
      "cell_type": "code",
      "execution_count": null,
      "metadata": {
        "id": "jt1ATN7h_mCo"
      },
      "outputs": [],
      "source": [
        "samples = 30\n",
        "yhat_do = predict_dropout(enc_dec_model, test_x, samples)\n",
        "yhat_do = np.array(yhat_do)\n",
        "# yhat_do = scaler.inverse_transform(yhat_do.reshape(-1, yhat_do.shape[-1])).reshape(yhat_do.shape)\n",
        "\n"
      ]
    },
    {
      "cell_type": "code",
      "source": [
        "test_pred = scaler.inverse_transform(test_pred.reshape(-1, test_pred.shape[-1])).reshape(test_pred.shape)\n",
        "train_pred = scaler.inverse_transform(train_pred.reshape(-1, train_pred.shape[-1])).reshape(train_pred.shape)"
      ],
      "metadata": {
        "id": "K-TYKXk5HfNi"
      },
      "execution_count": null,
      "outputs": []
    },
    {
      "cell_type": "code",
      "source": [
        "test_x = scaler.inverse_transform(test_x.reshape(-1, test_x.shape[-1])).reshape(test_x.shape)\n",
        "test_y = scaler.inverse_transform(test_y.reshape(-1, test_y.shape[-1])).reshape(test_y.shape)\n",
        "train_x = scaler.inverse_transform(train_x.reshape(-1, train_x.shape[-1])).reshape(train_x.shape)\n",
        "train_y = scaler.inverse_transform(train_y.reshape(-1, train_y.shape[-1])).reshape(train_y.shape)\n",
        "yhat_do = scaler.inverse_transform(yhat_do.reshape(-1, yhat_do.shape[-1])).reshape(yhat_do.shape)"
      ],
      "metadata": {
        "id": "MGHUIo4QIl9L"
      },
      "execution_count": null,
      "outputs": []
    },
    {
      "cell_type": "code",
      "source": [
        "dropout_rate = 0.3\n",
        "decay = 1e-6\n",
        "N = train_x.shape[0]\n",
        "l2 = 0.01\n",
        "\n",
        "mu =  np.mean(yhat_do, axis=0)\n",
        "var = np.var(yhat_do, axis=0)\n",
        "tau = l2 * (1.- dropout_rate)/(2. * N * decay)\n",
        "var += (1./ tau)\n",
        "sigma = np.sqrt(var) \n",
        "print(sigma)"
      ],
      "metadata": {
        "colab": {
          "base_uri": "https://localhost:8080/"
        },
        "id": "MFDwdfYPC9IZ",
        "outputId": "3eba101c-55ad-4c4d-edd0-94bb2f488541"
      },
      "execution_count": null,
      "outputs": [
        {
          "output_type": "stream",
          "name": "stdout",
          "text": [
            "[[[0.9304209  0.87434375 0.8110362  0.79291743]\n",
            "  [0.9171918  0.9012839  0.8072707  0.79316795]\n",
            "  [0.91588527 0.907593   0.79762435 0.79295814]\n",
            "  ...\n",
            "  [0.8654605  0.8414202  0.79380345 0.7929347 ]\n",
            "  [0.8641326  0.84149307 0.7942928  0.7928182 ]\n",
            "  [0.84737706 0.84550244 0.7939969  0.7933103 ]]\n",
            "\n",
            " [[0.96403563 0.87449217 0.8132973  0.79344803]\n",
            "  [0.97946495 0.86395895 0.80270374 0.79314077]\n",
            "  [1.0309535  0.8940793  0.79988456 0.79318213]\n",
            "  ...\n",
            "  [0.9287074  0.8206854  0.7941659  0.79285467]\n",
            "  [0.9250971  0.823429   0.7944754  0.79277587]\n",
            "  [0.9307338  0.8197214  0.79404706 0.79282194]]\n",
            "\n",
            " [[0.926674   0.91253746 0.81313986 0.7932747 ]\n",
            "  [0.90080214 0.8945969  0.8008736  0.79293066]\n",
            "  [0.94211483 0.8720062  0.7977775  0.7925937 ]\n",
            "  ...\n",
            "  [0.91380167 0.83206046 0.79316676 0.79244095]\n",
            "  [0.9189364  0.82520765 0.79285276 0.79264104]\n",
            "  [0.92242104 0.83085996 0.79340476 0.79264206]]\n",
            "\n",
            " ...\n",
            "\n",
            " [[0.94947034 0.849916   0.8230284  0.7933357 ]\n",
            "  [0.98374134 0.8429351  0.8078181  0.79287064]\n",
            "  [1.0177543  0.821034   0.80404305 0.7926996 ]\n",
            "  ...\n",
            "  [0.93014747 0.8112417  0.7949589  0.7923713 ]\n",
            "  [0.93741024 0.8104148  0.7945882  0.7923939 ]\n",
            "  [0.9169392  0.8074623  0.79565287 0.7923813 ]]\n",
            "\n",
            " [[0.93086916 0.8390942  0.80744106 0.7933403 ]\n",
            "  [0.95965    0.85415983 0.80136395 0.793234  ]\n",
            "  [0.9419807  0.8444246  0.8001763  0.79295635]\n",
            "  ...\n",
            "  [0.91954434 0.8067339  0.7958985  0.792279  ]\n",
            "  [0.90188044 0.8027657  0.7950535  0.792328  ]\n",
            "  [0.88172287 0.8024176  0.7946401  0.79236996]]\n",
            "\n",
            " [[1.1670263  0.84500176 0.82141036 0.79315674]\n",
            "  [1.0925077  0.8559408  0.8138283  0.7932174 ]\n",
            "  [0.9954426  0.8722269  0.8049476  0.79343796]\n",
            "  ...\n",
            "  [1.067061   0.8626612  0.8051786  0.79477876]\n",
            "  [1.0714726  0.85853404 0.8031665  0.7941134 ]\n",
            "  [1.1198237  0.86840755 0.8042317  0.79467887]]]\n"
          ]
        }
      ]
    },
    {
      "cell_type": "code",
      "execution_count": null,
      "metadata": {
        "colab": {
          "base_uri": "https://localhost:8080/",
          "height": 277
        },
        "id": "z-GFRAC1PWvO",
        "outputId": "51dee876-cc67-4bb1-b579-080b948a9462"
      },
      "outputs": [
        {
          "output_type": "display_data",
          "data": {
            "text/plain": [
              "<Figure size 720x216 with 1 Axes>"
            ],
            "image/png": "[encoded data removed]"
          },
          "metadata": {}
        },
        {
          "output_type": "stream",
          "name": "stdout",
          "text": [
            "[2.2108062 2.7147921 3.1637242 3.7052366 4.3350193 4.9023752 5.4608811\n",
            " 6.0107425] [3.5606291 3.7314972 3.901001  4.1102166 4.3573903 4.5153724 4.6708901\n",
            " 4.8240008]\n"
          ]
        }
      ],
      "source": [
        "\n",
        "\n",
        "def plot_trajectory(x_true, y_true, y_pred,  id=0):\n",
        "  plt.figure(figsize=(10,3))\n",
        "  plt.plot(x_true[id,:,0], x_true[id,:,1], color='g', label=\"input trajectory\", marker='o')\n",
        "  plt.plot(y_true[id,:,0], y_true[id,:,1], color='b', label=\"actual trajectory\", alpha=0.3, marker='^')\n",
        "  plt.plot(y_pred[id,:,0], y_pred[id,:,1], color='r', label=\"predicted trajectory\", marker='s')\n",
        "  plt.legend(loc=\"best\")\n",
        "  plt.xlabel('x')\n",
        "  plt.ylabel('y')\n",
        "  # plt.xlim([-1,-3])\n",
        "  plt.grid(\"on\", alpha=0.2)\n",
        "  plt.show()\n",
        "  print(x_true[id,:,0], x_true[id,:,1])\n",
        "\n",
        "# plot_trajectory(test_x, test_y, test_pred, id = 150)\n",
        "plot_trajectory(test_x, np.squeeze(test_y), np.squeeze(test_pred), id = 20)\n"
      ]
    },
    {
      "cell_type": "code",
      "execution_count": null,
      "metadata": {
        "colab": {
          "base_uri": "https://localhost:8080/",
          "height": 277
        },
        "id": "mnyhii7dRYHL",
        "outputId": "e0ef9d93-2760-4f92-9c08-e6669a432dde"
      },
      "outputs": [
        {
          "output_type": "display_data",
          "data": {
            "text/plain": [
              "<Figure size 720x216 with 1 Axes>"
            ],
            "image/png": "[encoded data removed]"
          },
          "metadata": {}
        },
        {
          "output_type": "stream",
          "name": "stdout",
          "text": [
            "[7.6353672 7.1670909 6.7341728 6.3426199 5.9914678 5.5973695 5.2394674\n",
            " 5.0151027] [6.5483408 6.616482  6.6414608 6.7058853 6.7683596 6.9181861 6.9822277\n",
            " 7.0384316]\n"
          ]
        }
      ],
      "source": [
        "plot_trajectory(train_x, train_y, train_pred, id=10)"
      ]
    },
    {
      "cell_type": "code",
      "source": [
        "test_pred = np.squeeze(test_pred)\n",
        "test_y = np.squeeze(test_y)\n",
        "\n",
        "test_pred = test_pred[None,:]\n",
        "test_y = test_y[None,:]\n"
      ],
      "metadata": {
        "id": "HEq9eWjtc2KC"
      },
      "execution_count": null,
      "outputs": []
    },
    {
      "cell_type": "code",
      "source": [
        "# def rmse(yhat_d)\n",
        "yhat_do_mean = yhat_do.mean(axis=0)[:,:,0:2]\n",
        "yhat_do_std = yhat_do.std(axis=0)[:,:,0:2]\n",
        "test_y_squeeze = test_y.squeeze(0)[:,:,0:2]\n",
        "print(yhat_do_std.shape)\n",
        "print(test_y_squeeze.shape)\n",
        "\n",
        "rmse = np.sqrt(((yhat_do_mean - test_y_squeeze)**2).sum(axis=2)).mean(axis=1)\n",
        "print(rmse[2])"
      ],
      "metadata": {
        "colab": {
          "base_uri": "https://localhost:8080/"
        },
        "id": "y0CsBypAyI4X",
        "outputId": "f2b01ce7-f056-4dcd-df93-a05019908913"
      },
      "execution_count": null,
      "outputs": [
        {
          "output_type": "stream",
          "name": "stdout",
          "text": [
            "(419, 12, 2)\n",
            "(419, 12, 2)\n",
            "0.5961794197916169\n"
          ]
        }
      ]
    },
    {
      "cell_type": "code",
      "source": [
        "FDE_pred = np.sqrt(((yhat_do_mean - test_y_squeeze)**2).sum(axis=2))[:,-1]\n",
        "ADE_pred = np.sqrt(((yhat_do_mean - test_y_squeeze)**2).sum(axis=2)).mean(axis=1)\n",
        "\n",
        "print(FDE_pred[100],ADE_pred[0])\n"
      ],
      "metadata": {
        "colab": {
          "base_uri": "https://localhost:8080/"
        },
        "id": "Kctl8FLRaESc",
        "outputId": "ec23e197-26fc-4d29-9b67-8dccc68d9e80"
      },
      "execution_count": null,
      "outputs": [
        {
          "output_type": "stream",
          "name": "stdout",
          "text": [
            "0.10366425718193223 0.7225743563476209\n"
          ]
        }
      ]
    },
    {
      "cell_type": "code",
      "execution_count": null,
      "metadata": {
        "id": "uCJF7rwtz-sl",
        "colab": {
          "base_uri": "https://localhost:8080/"
        },
        "outputId": "e66bbebb-f78c-49ff-b494-06469293dbaf"
      },
      "outputs": [
        {
          "output_type": "stream",
          "name": "stdout",
          "text": [
            "[0.77896253 1.14659529 1.02524662 0.84605851 0.48350923 0.88320972\n",
            " 1.21812649 1.56871491 0.76496894 0.66246011 1.14706663 1.31885977\n",
            " 0.85764102 0.81950363 2.08435473 0.73685071 0.92370188 0.90837915\n",
            " 1.24830911 1.50285238 1.82764298 0.54752976 0.72861445 1.00278257\n",
            " 0.75747283 1.0725598  0.78133462 1.14441471 0.6400752  1.53735612]\n",
            "[0.96214678]\n",
            "1.0321718134613882 0.3718694794881764\n",
            "0.9621467807034336 0.0\n",
            "1.1723641089832746 0.39779326344662685\n",
            "1.1358082483078695 0.0\n"
          ]
        }
      ],
      "source": [
        "\n",
        "# Evaluate the prediction metrics : ADE, FDE\n",
        "# ADE : Average Displacement Error , FDE : Final Displacement Error\n",
        "\n",
        "\n",
        "def average_displacement_error(forward_pred, y_pred, y_true, id=0 ):\n",
        "\n",
        "  final_ADE = np.zeros(y_pred.shape[0])\n",
        "  for N in range(y_pred.shape[0]):\n",
        "    ADE = 0.0 # Initialize ADE for each trajectory as 0\n",
        "    for n in range(forward_pred):\n",
        "      ADE += np.sqrt((y_pred[N,id,n,0] - y_true[0,id,n,0])**2 + (y_pred[N,id,n,1] - y_true[0,id,n,1])**2)\n",
        "    ADE = ADE/forward_pred \n",
        "  \n",
        "    final_ADE[N] = ADE\n",
        "  \n",
        "  print(final_ADE)\n",
        "  mean, var = np.mean(final_ADE, axis = 0), np.std(final_ADE, axis = 0)\n",
        "  return mean, var\n",
        "\n",
        "\n",
        "def final_displacement_error(forward_pred, y_pred, y_true, id=0):\n",
        "\n",
        "  final_FDE = np.zeros(y_pred.shape[0])\n",
        "  for N in range(y_pred.shape[0]):\n",
        "    FDE = np.sqrt((y_pred[N,id,-1,0] - y_true[0,id,-1,0])**2 + (y_pred[N,id,-1,1] - y_true[0,id,-1,1])**2)\n",
        "    final_FDE[N] = FDE\n",
        "\n",
        "  \n",
        "  mean, var = np.mean(final_FDE, axis = 0), np.std(final_FDE, axis = 0)\n",
        "  return mean, var\n",
        "\n",
        "\n",
        "id_no = 10\n",
        "[ADE_do_mean, ADE_do_std ] = average_displacement_error(forward_pred, yhat_do, test_y, id_no )\n",
        "[ADE_LSTM_mean, ADE_LSTM_std] = average_displacement_error(forward_pred, test_pred, test_y, id_no )\n",
        "\n",
        "[FDE_do_mean, FDE_do_std] = final_displacement_error(forward_pred, yhat_do, test_y, id_no)\n",
        "[FDE_LSTM_mean, FDE_LSTM_std] = final_displacement_error(forward_pred, test_pred, test_y, id_no)\n",
        "\n",
        "\n",
        "\n",
        "print(ADE_do_mean, ADE_do_std)\n",
        "print(ADE_LSTM_mean, ADE_LSTM_std)\n",
        "\n",
        "print(FDE_do_mean, FDE_do_std)\n",
        "print(FDE_LSTM_mean, FDE_LSTM_std)"
      ]
    },
    {
      "cell_type": "code",
      "source": [
        "def get_results(yhat_do, test_y):\n",
        "  #yhat_do shape: n_samples, id_samples, forward_pred, features\n",
        "  #test_y shape: 1, id_samples, forward_pred, features\n",
        "  yhat_do_mean = yhat_do.mean(axis=0)[:,:,0:2] # 337, 12, 2 (mu_x, mu_y for every id, time_pred)\n",
        "  yhat_do_std = yhat_do.std(axis=0)[:,:,0:2] # 337, 12, 2\n",
        "  \n",
        "  ADE_pred = np.sqrt(((yhat_do_mean - test_y_squeeze)**2).sum(axis=2)).mean(axis=1) # RMSE_mean_pred has shape(id_samples,)\n",
        "  FDE_pred = np.sqrt(((yhat_do_mean - test_y_squeeze)**2).sum(axis=2))[:,-1] # Finite Displacement error(id_samples,)\n",
        "\n",
        "\n",
        "  cov_mat = np.zeros((yhat_do.shape[1], yhat_do.shape[2], 2, 2))\n",
        "  for i in range(yhat_do.shape[1]): # id_samples\n",
        "    for j in range(yhat_do.shape[2]): # forward_pred\n",
        "      cov_mat[i, j, :, :] = np.cov(yhat_do[:,i,j,0], yhat_do[:,i,j,1])\n",
        "\n",
        "  return yhat_do_mean, yhat_do_std, ADE_pred, FDE_pred,cov_mat\n",
        "yhat_do_mean, yhat_do_std, ADE_pred_per_sample, FDE_pred_per_sample, cov_mat = get_results(yhat_do, test_y)\n",
        "LSTM_mean, LSTM_std, ADE_per_sample_LSTM, FDE_per_sample_LSTM, cov_mat_LSTM = get_results(test_pred, test_y)"
      ],
      "metadata": {
        "colab": {
          "base_uri": "https://localhost:8080/"
        },
        "id": "hoKGKg4cY6K0",
        "outputId": "05cf64c7-c30d-4cec-909b-8250872adf2b"
      },
      "execution_count": null,
      "outputs": [
        {
          "output_type": "stream",
          "name": "stderr",
          "text": [
            "/usr/local/lib/python3.7/dist-packages/ipykernel_launcher.py:14: RuntimeWarning: Degrees of freedom <= 0 for slice\n",
            "  \n",
            "/usr/local/lib/python3.7/dist-packages/numpy/lib/function_base.py:2542: RuntimeWarning: divide by zero encountered in true_divide\n",
            "  c *= np.true_divide(1, fact)\n",
            "/usr/local/lib/python3.7/dist-packages/numpy/lib/function_base.py:2542: RuntimeWarning: invalid value encountered in multiply\n",
            "  c *= np.true_divide(1, fact)\n"
          ]
        }
      ]
    },
    {
      "cell_type": "code",
      "source": [
        "\n",
        "ADE_per_sample_LSTM.shape"
      ],
      "metadata": {
        "colab": {
          "base_uri": "https://localhost:8080/"
        },
        "id": "U_ymKojhEK04",
        "outputId": "6f25293f-9e1e-4c5a-fb95-bd278dc488b8"
      },
      "execution_count": null,
      "outputs": [
        {
          "output_type": "execute_result",
          "data": {
            "text/plain": [
              "(419,)"
            ]
          },
          "metadata": {},
          "execution_count": 69
        }
      ]
    },
    {
      "cell_type": "code",
      "source": [
        "\n",
        "# ADE and FDE over samples\n",
        "ADE_per_sample = ADE_pred_per_sample[id_no]\n",
        "ADE_std_x = yhat_do_std[id_no,:,0]\n",
        "ADE_std_y = yhat_do_std[id_no,:,1]\n",
        "\n",
        "FDE_per_sample = FDE_pred_per_sample[id_no]\n",
        "FDE_std_x = yhat_do_std[id_no,-1,0]\n",
        "FDE_std_y = yhat_do_std[id_no,-1,1]\n",
        "\n",
        "\n",
        "ADE_final_MCD = np.mean(ADE_pred_per_sample)\n",
        "FDE_final_MCD = np.mean(FDE_pred_per_sample)\n",
        "\n",
        "ADE_final_LSTM = np.mean(ADE_per_sample_LSTM)\n",
        "FDE_final_LSTM = np.mean(FDE_per_sample_LSTM)\n",
        "\n",
        "print(ADE_per_sample_LSTM[id_no],FDE_per_sample_LSTM[id_no],ADE_final_LSTM,FDE_final_LSTM)\n",
        "print(ADE_per_sample,FDE_per_sample,ADE_final_MCD,FDE_final_MCD)\n",
        "\n"
      ],
      "metadata": {
        "colab": {
          "base_uri": "https://localhost:8080/"
        },
        "id": "awPFKU--RYRs",
        "outputId": "83fb90d0-4576-4495-cea1-343eeb244daa"
      },
      "execution_count": null,
      "outputs": [
        {
          "output_type": "stream",
          "name": "stdout",
          "text": [
            "0.9621467807034337 1.1358082483078695 0.7781435882004843 1.1186986687926437\n",
            "0.8301192122185926 1.0617762816121092 0.6087718464534517 0.9799762173029872\n"
          ]
        }
      ]
    },
    {
      "cell_type": "code",
      "source": [
        "\n",
        "print(yhat_do_std[150,6,0])\n",
        "print(yhat_do_std[150,6,1])\n"
      ],
      "metadata": {
        "colab": {
          "base_uri": "https://localhost:8080/"
        },
        "id": "qF6r0Il63m1B",
        "outputId": "98786f6b-c041-4a76-eaef-6df5713e62a2"
      },
      "execution_count": null,
      "outputs": [
        {
          "output_type": "stream",
          "name": "stdout",
          "text": [
            "0.31704557\n",
            "0.18795852\n"
          ]
        }
      ]
    },
    {
      "cell_type": "code",
      "execution_count": null,
      "metadata": {
        "colab": {
          "base_uri": "https://localhost:8080/",
          "height": 225
        },
        "id": "yMUd25vCGQ_k",
        "outputId": "3aa266e5-414b-46ae-82ea-4e1dbfae4e86"
      },
      "outputs": [
        {
          "output_type": "display_data",
          "data": {
            "text/plain": [
              "<Figure size 720x216 with 1 Axes>"
            ],
            "image/png": "[encoded data removed]"
          },
          "metadata": {}
        }
      ],
      "source": [
        "def plot_trajectory(x_true, y_true, y_pred, y_pred_do, samples, id=0, title = 'Pedestrian_traj_do_0.2_ and FP = %i'):\n",
        "  plt.figure(figsize=(10,3),  tight_layout=True)\n",
        "  plt.rcParams.update({'font.size': 10})\n",
        "  plt.rcParams[\"axes.edgecolor\"] = \"black\"\n",
        "  plt.rcParams[\"axes.linewidth\"]  = 1.25\n",
        "  sns.set_style(\"whitegrid\")\n",
        "  plt.plot(x_true[id,:,0], x_true[id,:,1], color='g', label=\"input trajectory\", marker='o')\n",
        "  plt.plot(y_true[id,:,0], y_true[id,:,1], color='b', label=\"Ground Truth\", alpha=0.3, marker='^')\n",
        "  # plt.plot(y_pred[id,:,0], y_pred[id,:,1], color='r', label=\"LSTM\", marker='s', alpha = 0.5)\n",
        "  yhat_do_mean = y_pred_do.mean(axis=0)[:,:,0:2]\n",
        "  yhat_do_std = y_pred_do.std(axis=0)[:,:,0:2]\n",
        "  \n",
        "  l, caps, c = plt.errorbar(yhat_do_mean[id,:,0], yhat_do_mean[id,:,1], xerr= 2* yhat_do_std[id,:,0], yerr= 2* yhat_do_std[id,:,1], fmt='o', ecolor='k', \n",
        "                            capthick=2, alpha = 0.8, label='$\\mu$, $2\\sigma_{x}$, $2\\sigma_{y}$')\n",
        " \n",
        "    \n",
        "  # plt.plot(yhat_do_mean[id,:,0], yhat_do_mean[id,:,1], color='r',marker='s',alpha = 0.4,label='LSTM + MC Dropout')\n",
        "  # plt.xlim([-1,-0.5])\n",
        "  # plt.ylim([1,5])\n",
        "  # plt.plot(mu[id,:,0], mu[id,:,1], 'm-', label='LSTM + MC Dropout', marker = 'd')\n",
        "  # plt.fill_between(mu[id,:,0], mu[id,:,1] - sigma[id,:,1], mu[id,:,1] + sigma[id,:,1], color='b', alpha=0.2)\n",
        "  # for t in range(samples-1):\n",
        "  #   plt.plot(y_pred_do[t,id,:,0], y_pred_do[t,id,:,1], color='c', alpha = 0.075)\n",
        "  # plt.plot(y_pred_do[-1,id,:,0], y_pred_do[-1,id,:,1], color='c', alpha = 0.075,label = 'LSTM + MC')\n",
        "  # plt.errorbar(mu[id,:,0], mu[id,:,1], xerr=sigma[id,:,0], fmt='.')\n",
        "  # lower_bound = np.array(mu[id,:,1]) - np.array(sigma[id,:,1])\n",
        "  # upper_bound =  np.array(mu[id,:,1]) + np.array(sigma[id,:,1])\n",
        "  # plt.fill_between(mu[id,:,1], lower_bound, upper_bound, facecolor='lightblue')\n",
        "\n",
        "  \n",
        "  # x_hat_upper = yhat_do_mean[id,:,0]+yhat_do_std[id,:,0]*0.672\n",
        "  # x_hat_lower = yhat_do_mean[id,:,0] - yhat_do_std[id,:,0]*0.672\n",
        "  # x_hat_2upper = yhat_do_mean[id,:,0]+ yhat_do_std[id,:,0]*0.95\n",
        "  # x_hat_2lower = yhat_do_mean[id,:,0]-yhat_do_std[id,:,0]*0.95\n",
        " \n",
        "  # # # Fill between plot:\n",
        "\n",
        "  # plt.fill_betweenx(yhat_do_mean[id,:,1],\n",
        "  #                   x_hat_upper, \n",
        "  #                   x_hat_lower, \n",
        "  #                   alpha=0.43, color='C0')\n",
        "  # plt.fill_betweenx(yhat_do_mean[id,:,1],\n",
        "  #                   x_hat_2upper, \n",
        "  #                   x_hat_2lower, \n",
        "  #                   alpha=0.23, color='C0', label='Uncertainty')\n",
        "\n",
        "\n",
        "  # plt.legend(loc=\"lower right\", fontsize = 12)\n",
        "  plt.xlabel('x', fontsize=16)\n",
        "  plt.ylabel('y',fontsize=16)\n",
        "  # plt.yticks(np.arange(1,5.1,2))\n",
        "  plt.grid(\"on\", alpha=0.5)\n",
        "  plt.tick_params(axis='both', which='major', labelsize=14)\n",
        " \n",
        "  plt.gca().set_aspect('equal', adjustable='box')\n",
        "\n",
        "  # saving the figure:\n",
        "  from google.colab import files\n",
        "  filename1 = title + \".png\"\n",
        "  filename2 = title + \".pdf\"\n",
        "  plt.title(\"\")\n",
        "  plt.savefig(filename1,dpi=300)\n",
        "  plt.savefig(filename2, format='pdf')\n",
        "  plt.tight_layout()\n",
        "  plt.show()\n",
        "\n",
        "plot_trajectory(test_x, np.squeeze(test_y), np.squeeze(test_pred), yhat_do, samples, id_no , title = 'LSTM_traj_do_0.2_ andFP_4.8 secs_ID_58_traj')\n",
        "\n"
      ]
    },
    {
      "cell_type": "code",
      "source": [
        "# Estimating the 95% Confidence interval:\n",
        "def conf_int( y_true, y_pred, y_pred_do, forward_pred,id):\n",
        "\n",
        "  yhat_do_mean = y_pred_do.mean(axis=0)[:,:,0:2]\n",
        "  yhat_do_std = y_pred_do.std(axis=0)[:,:,0:2]\n",
        "\n",
        "  cnt_tot_x = []\n",
        "  cnt_tot_y = []\n",
        "\n",
        "  for id in range(y_true.shape[0]): \n",
        "\n",
        "    y_hat_2upper = yhat_do_mean[id,:,1]+ 2*yhat_do_std[id,:,1]\n",
        "    y_hat_2lower = yhat_do_mean[id,:,1] - 2*yhat_do_std[id,:,1]\n",
        "    x_hat_2upper = yhat_do_mean[id,:,0]+ 2* yhat_do_std[id,:,0]\n",
        "    x_hat_2lower = yhat_do_mean[id,:,0]- 2* yhat_do_std[id,:,0]\n",
        "\n",
        "\n",
        "    cnt_x_per_sample = []\n",
        "    cnt_y_per_sample = []\n",
        "    for t in range (forward_pred):\n",
        "\n",
        "      cnt_x = 0\n",
        "      cnt_y = 0\n",
        "\n",
        "      \n",
        "      CI_x_up = (y_true[id,t,0] - x_hat_2upper[t])\n",
        "      CI_x_low = (y_true[id,t,0] - x_hat_2lower[t])\n",
        "      CI_y_up = (y_true[id,t,1] - y_hat_2upper[t])\n",
        "      CI_y_low = (y_true[id,t,1] - y_hat_2lower[t])\n",
        "\n",
        "\n",
        "      if ( (CI_x_up <0 and  CI_x_low >0 ) or (CI_x_up >0 and  CI_x_low <0 )):\n",
        "        cnt_x += 1\n",
        "      if ((CI_y_up <0 and  CI_y_low >0 ) or (CI_y_up >0 and  CI_y_low <0 )):\n",
        "        cnt_y += 1\n",
        "      \n",
        "      cnt_x_per_sample.append(cnt_x)\n",
        "      cnt_y_per_sample.append(cnt_y)\n",
        "\n",
        "    cnt_tot_x.append(np.sum(cnt_x_per_sample)*100/forward_pred)\n",
        "    cnt_tot_y.append(np.sum(cnt_y_per_sample)*100/forward_pred)\n",
        "  \n",
        "  return np.array((cnt_tot_x)),np.array((cnt_tot_y))\n",
        "\n",
        "cnt_x, cnt_y = conf_int( np.squeeze(test_y), np.squeeze(test_pred), yhat_do, forward_pred, id_no)"
      ],
      "metadata": {
        "id": "6-yyPIBK6Yn4"
      },
      "execution_count": null,
      "outputs": []
    },
    {
      "cell_type": "code",
      "source": [
        "print(np.mean(cnt_x), np.std(cnt_x))\n",
        "print(np.mean(cnt_y), np.std(cnt_y))"
      ],
      "metadata": {
        "colab": {
          "base_uri": "https://localhost:8080/"
        },
        "id": "TM51xBINTf5L",
        "outputId": "b8d7b9df-a217-412b-de47-c5898918e19c"
      },
      "execution_count": null,
      "outputs": [
        {
          "output_type": "stream",
          "name": "stdout",
          "text": [
            "75.28325123152709 30.291275878635453\n",
            "82.59852216748769 26.348884082581026\n"
          ]
        }
      ]
    },
    {
      "cell_type": "code",
      "source": [
        "\n",
        "# Importing the necessary modules\n",
        "import numpy as np\n",
        "import matplotlib.pyplot as plt\n",
        "from scipy.stats import multivariate_normal\n",
        "\n",
        "\n",
        "plt.style.use('seaborn-white')\n",
        "plt.rcParams['figure.figsize']= 6,4\n",
        "fig = plt.figure()\n",
        "\n",
        "# Initializing the random seed\n",
        "# random_seed=1000\n",
        "\n",
        "# List containing the variance\n",
        "# covariance values\n",
        "# cov_val = [-0.8, 0, 0.8]\n",
        "\n",
        "# For a specific ID:\n",
        "id_no = 58\n",
        "\n",
        "for pred in range(forward_pred):\n",
        "  # Setting mean of the distributino\n",
        "  # to be at (0,0)\n",
        "  mean = yhat_do_mean[id_no,pred,:]\n",
        "\n",
        "  # Storing density function values for\n",
        "  # further analysis\n",
        "  pdf_list = []\n",
        "\n",
        "\n",
        "\n",
        "\n",
        "  # Initializing the covariance matrix\n",
        "  cov = (cov_mat[id_no, pred,:])\n",
        "\n",
        "  # print(mean.shape, cov.shape)\n",
        "  # Generating a Gaussian bivariate distribution\n",
        "  # with given mean and covariance matrix\n",
        "  distr = multivariate_normal(cov = cov, mean = mean,\n",
        "                seed = tf.random.set_seed(1))\n",
        "\n",
        "  # Generating a meshgrid complacent with\n",
        "  # the 3-sigma boundary\n",
        "  mean_1, mean_2 = mean[0], mean[1]\n",
        "  sigma_1, sigma_2 = cov[0,0], cov[1,1]\n",
        "\n",
        "  x = np.linspace(mean_1-3*sigma_1, mean_1+3*sigma_1, num=100)\n",
        "  y = np.linspace(mean_2-3*sigma_2, mean_2+3*sigma_2, num=100)\n",
        "  X, Y = np.meshgrid(x,y)\n",
        "  \n",
        "  # Generating the density function\n",
        "  # for each point in the meshgrid\n",
        "  pdf = np.zeros(X.shape)\n",
        "  for i in range(X.shape[0]):\n",
        "    for j in range(X.shape[1]):\n",
        "      pdf[i,j] = distr.pdf([X[i,j], Y[i,j]])\n",
        "\n",
        "  # Plotting the density function values\n",
        "  key = 131\n",
        "  # ax = fig.add_subplot(key, projection = '3d')\n",
        "  # ax.plot_surface(X, Y, pdf, cmap = 'viridis')\n",
        "  # plt.xlabel(\"x1\")\n",
        "  # plt.ylabel(\"x2\")\n",
        "  # plt.title(f'Covariance between x1 and x2 = {val}')\n",
        "  pdf_list.append(pdf)\n",
        "  # ax.axes.zaxis.set_ticks([])\n",
        "\n",
        "  # plt.tight_layout()\n",
        "  # plt.show()\n",
        "\n",
        "\n",
        "# Plotting contour plots\n",
        "  for idx, val in enumerate(pdf_list):\n",
        "    cntr = plt.contourf(X, Y, val, cmap='viridis')\n",
        "  # cbar = fig.colorbar(cntr)\n",
        "  # plt.colorbar()\n",
        "\n",
        "  proxy = [plt.Rectangle((0,0),1,0,fc = pc.get_facecolor()[0]) \n",
        "    for pc in cntr.collections]\n",
        "  legend1 = plt.legend(proxy,[\"$\\mu$, $\\Sigma_{x}$, $\\Sigma_{y}$\"], loc = \"lower right\", fontsize =12 )\n",
        "\n",
        "yhat_do_mean = yhat_do.mean(axis=0)[:,:,0:2]\n",
        "\n",
        "plt.plot(test_x[id_no,:,0], test_x[id_no,:,1], color='g', label=\"input trajectory\", marker='o')\n",
        "plt.plot(np.squeeze(test_y)[id_no,:,0], np.squeeze(test_y)[id_no,:,1], color='b', label=\"Ground Truth\", alpha=0.3, marker='^')\n",
        "# plt.plot(yhat_do_mean[id_no,:,0], yhat_do_mean[id_no,:,1], color='r', label=\"1D-CNN\", marker='s', alpha = 0.5)\n",
        "plt.xlabel(\"x1\")\n",
        "plt.ylabel(\"x2\")\n",
        "# plt.title(f'Covariance between x1 and x2 ')\n",
        "# plt.ylim([1,5])\n",
        "plt.gca().set_aspect('equal', adjustable='box')\n",
        "\n",
        "plt.tight_layout()\n",
        "\n",
        "plt.xlabel('x', fontsize=16)\n",
        "plt.ylabel('y',fontsize=16)\n",
        "plt.yticks(np.arange(1,5.1,2))\n",
        "# legend2 = plt.legend(loc=4, fontsize = 12)\n",
        "plt.grid(\"on\", alpha=0.5)\n",
        "plt.tick_params(axis='both', which='major', labelsize=14)\n",
        "filename = \"LSTM_Bivariate_Normal_Distribution_uncertainty_states\"\n",
        "filename1 = filename + \".png\"\n",
        "filename2 = filename + \".pdf\"\n",
        "plt.title(\"\")\n",
        "plt.savefig(filename1,dpi=300)\n",
        "plt.savefig(filename2, format='pdf')\n",
        "plt.show()\n"
      ],
      "metadata": {
        "colab": {
          "base_uri": "https://localhost:8080/",
          "height": 280
        },
        "outputId": "e5e1bc16-150f-49fb-887d-d7d0bd738d52",
        "id": "T0TX7sbXTVuD"
      },
      "execution_count": null,
      "outputs": [
        {
          "output_type": "display_data",
          "data": {
            "text/plain": [
              "<Figure size 432x288 with 1 Axes>"
            ],
            "image/png": "[encoded data removed]"
          },
          "metadata": {}
        }
      ]
    },
    {
      "cell_type": "code",
      "source": [
        "plt.figure(figsize=(6, 5))\n",
        "plt.rcParams.update({'font.size': 14})\n",
        "# sns.distplot(cov_mat[:,:,0,0], stat='density', ax=ax[0], color='b')\n",
        "sns.distplot(np.sqrt(cov_mat[:,:,0,0]), color='b',hist = False, label = 'cov_x')\n",
        "sns.distplot(np.sqrt(cov_mat[:,:,1,1]), color='r',hist = False, label = 'cov_y')\n",
        "sns.distplot(np.sqrt(cov_mat[:,:,0,1]), color='g',hist = False, label = 'cov_xy')\n",
        "plt.xlabel(\"Standard Deviation \", fontsize=15)\n",
        "plt.ylabel(\"Density \", fontsize=15)\n",
        "plt.grid(\"on\", alpha=0.5)\n",
        "# plt.xlim([-0.2,0.5])\n",
        "plt.tight_layout()\n",
        "plt.legend()\n",
        "\n",
        "title = 'covariance matrix distribution_LSTM'\n",
        "filename1 = title + \".png\"\n",
        "filename2 = title + \".pdf\"\n",
        "plt.savefig(filename1,dpi=300)\n",
        "plt.savefig(filename2, format='pdf')\n",
        "plt.show()\n",
        "\n"
      ],
      "metadata": {
        "colab": {
          "base_uri": "https://localhost:8080/",
          "height": 235
        },
        "id": "0wUFlnRwfa0Z",
        "outputId": "33b19ca3-5e83-4352-c714-8d4bf2920963"
      },
      "execution_count": null,
      "outputs": [
        {
          "output_type": "error",
          "ename": "NameError",
          "evalue": "ignored",
          "traceback": [
            "\u001b[0;31m---------------------------------------------------------------------------\u001b[0m",
            "\u001b[0;31mNameError\u001b[0m                                 Traceback (most recent call last)",
            "\u001b[0;32m<ipython-input-1-ab6baa3811c4>\u001b[0m in \u001b[0;36m<module>\u001b[0;34m()\u001b[0m\n\u001b[0;32m----> 1\u001b[0;31m \u001b[0mplt\u001b[0m\u001b[0;34m.\u001b[0m\u001b[0mfigure\u001b[0m\u001b[0;34m(\u001b[0m\u001b[0mfigsize\u001b[0m\u001b[0;34m=\u001b[0m\u001b[0;34m(\u001b[0m\u001b[0;36m6\u001b[0m\u001b[0;34m,\u001b[0m \u001b[0;36m5\u001b[0m\u001b[0;34m)\u001b[0m\u001b[0;34m)\u001b[0m\u001b[0;34m\u001b[0m\u001b[0;34m\u001b[0m\u001b[0m\n\u001b[0m\u001b[1;32m      2\u001b[0m \u001b[0mplt\u001b[0m\u001b[0;34m.\u001b[0m\u001b[0mrcParams\u001b[0m\u001b[0;34m.\u001b[0m\u001b[0mupdate\u001b[0m\u001b[0;34m(\u001b[0m\u001b[0;34m{\u001b[0m\u001b[0;34m'font.size'\u001b[0m\u001b[0;34m:\u001b[0m \u001b[0;36m14\u001b[0m\u001b[0;34m}\u001b[0m\u001b[0;34m)\u001b[0m\u001b[0;34m\u001b[0m\u001b[0;34m\u001b[0m\u001b[0m\n\u001b[1;32m      3\u001b[0m \u001b[0;31m# sns.distplot(cov_mat[:,:,0,0], stat='density', ax=ax[0], color='b')\u001b[0m\u001b[0;34m\u001b[0m\u001b[0;34m\u001b[0m\u001b[0;34m\u001b[0m\u001b[0m\n\u001b[1;32m      4\u001b[0m \u001b[0msns\u001b[0m\u001b[0;34m.\u001b[0m\u001b[0mdistplot\u001b[0m\u001b[0;34m(\u001b[0m\u001b[0mnp\u001b[0m\u001b[0;34m.\u001b[0m\u001b[0msqrt\u001b[0m\u001b[0;34m(\u001b[0m\u001b[0mcov_mat\u001b[0m\u001b[0;34m[\u001b[0m\u001b[0;34m:\u001b[0m\u001b[0;34m,\u001b[0m\u001b[0;34m:\u001b[0m\u001b[0;34m,\u001b[0m\u001b[0;36m0\u001b[0m\u001b[0;34m,\u001b[0m\u001b[0;36m0\u001b[0m\u001b[0;34m]\u001b[0m\u001b[0;34m)\u001b[0m\u001b[0;34m,\u001b[0m \u001b[0mcolor\u001b[0m\u001b[0;34m=\u001b[0m\u001b[0;34m'b'\u001b[0m\u001b[0;34m,\u001b[0m\u001b[0mhist\u001b[0m \u001b[0;34m=\u001b[0m \u001b[0;32mFalse\u001b[0m\u001b[0;34m,\u001b[0m \u001b[0mlabel\u001b[0m \u001b[0;34m=\u001b[0m \u001b[0;34m'cov_x'\u001b[0m\u001b[0;34m)\u001b[0m\u001b[0;34m\u001b[0m\u001b[0;34m\u001b[0m\u001b[0m\n\u001b[1;32m      5\u001b[0m \u001b[0msns\u001b[0m\u001b[0;34m.\u001b[0m\u001b[0mdistplot\u001b[0m\u001b[0;34m(\u001b[0m\u001b[0mnp\u001b[0m\u001b[0;34m.\u001b[0m\u001b[0msqrt\u001b[0m\u001b[0;34m(\u001b[0m\u001b[0mcov_mat\u001b[0m\u001b[0;34m[\u001b[0m\u001b[0;34m:\u001b[0m\u001b[0;34m,\u001b[0m\u001b[0;34m:\u001b[0m\u001b[0;34m,\u001b[0m\u001b[0;36m1\u001b[0m\u001b[0;34m,\u001b[0m\u001b[0;36m1\u001b[0m\u001b[0;34m]\u001b[0m\u001b[0;34m)\u001b[0m\u001b[0;34m,\u001b[0m \u001b[0mcolor\u001b[0m\u001b[0;34m=\u001b[0m\u001b[0;34m'r'\u001b[0m\u001b[0;34m,\u001b[0m\u001b[0mhist\u001b[0m \u001b[0;34m=\u001b[0m \u001b[0;32mFalse\u001b[0m\u001b[0;34m,\u001b[0m \u001b[0mlabel\u001b[0m \u001b[0;34m=\u001b[0m \u001b[0;34m'cov_y'\u001b[0m\u001b[0;34m)\u001b[0m\u001b[0;34m\u001b[0m\u001b[0;34m\u001b[0m\u001b[0m\n",
            "\u001b[0;31mNameError\u001b[0m: name 'plt' is not defined"
          ]
        }
      ]
    },
    {
      "cell_type": "code",
      "source": [
        "ADE = 0.0 # Initialize ADE for each trajectory as 0\n",
        "for n in range(forward_pred):\n",
        "  ADE += np.sqrt((yhat_do[:,:,n,0] - test_y[0,:,n,0])**2 + (yhat_do[:,:,n,1] - test_y[0,:,n,1])**2)\n",
        "ADE = ADE/forward_pred \n",
        "\n",
        "print(ADE.shape)"
      ],
      "metadata": {
        "colab": {
          "base_uri": "https://localhost:8080/"
        },
        "id": "_-dYWz0ZPrrr",
        "outputId": "68f9e6b7-1fc0-41d5-d3ca-abeda4ffc019"
      },
      "execution_count": null,
      "outputs": [
        {
          "output_type": "stream",
          "name": "stdout",
          "text": [
            "(30, 862)\n"
          ]
        }
      ]
    },
    {
      "cell_type": "code",
      "source": [],
      "metadata": {
        "id": "kzkWraEXCzcW"
      },
      "execution_count": null,
      "outputs": []
    },
    {
      "cell_type": "code",
      "source": [
        "plt.figure(figsize=(6, 5))\n",
        "sns.distplot(ADE_pred_per_sample, kde=True)\n",
        "plt.xlabel(\"RMSE of Mean Predictions\", fontsize=15)\n",
        "plt.grid(\"on\", alpha=0.5)\n",
        "plt.show()"
      ],
      "metadata": {
        "colab": {
          "base_uri": "https://localhost:8080/",
          "height": 395
        },
        "id": "jQzVO8qAeny_",
        "outputId": "2e3da35a-c90d-469e-994a-7454446500f7"
      },
      "execution_count": null,
      "outputs": [
        {
          "output_type": "stream",
          "name": "stderr",
          "text": [
            "/usr/local/lib/python3.7/dist-packages/seaborn/distributions.py:2619: FutureWarning: `distplot` is a deprecated function and will be removed in a future version. Please adapt your code to use either `displot` (a figure-level function with similar flexibility) or `histplot` (an axes-level function for histograms).\n",
            "  warnings.warn(msg, FutureWarning)\n"
          ]
        },
        {
          "output_type": "display_data",
          "data": {
            "image/png": "[encoded data removed]",
            "text/plain": [
              "<Figure size 432x360 with 1 Axes>"
            ]
          },
          "metadata": {}
        }
      ]
    }
  ],
  "metadata": {
    "colab": {
      "provenance": []
    },
    "kernelspec": {
      "display_name": "Python 3",
      "name": "python3"
    },
    "language_info": {
      "name": "python"
    },
    "gpuClass": "standard",
    "accelerator": "GPU"
  },
  "nbformat": 4,
  "nbformat_minor": 0
}